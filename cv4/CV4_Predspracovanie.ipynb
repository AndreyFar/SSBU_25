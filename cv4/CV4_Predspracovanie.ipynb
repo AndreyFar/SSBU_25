{
 "cells": [
  {
   "metadata": {},
   "cell_type": "markdown",
   "source": [
    "# **SSBU CV4: Predspracovanie a analýza údajov**\n",
    "\n",
    "Predpracovanie údajov a analýza zahŕňa niekoľko základných fáz, ktoré môžeme aplikovať vo vybranom programovacom jazyku (napr. Python alebo R).  Budeme pracovať s datasetom **U.S. Chronic Disease Indicators (CDI)**, ktorý obsahuje informácie o chronických ochoreniach v USA.\n",
    "\n",
    "---\n",
    "\n",
    "## **1. Úvod: Stiahnutie datasetu a základný prehľad**\n",
    "\n",
    "**Úloha 1.1: Stiahnite dataset**\n",
    "Chceme stiahnuť dataset **U.S. Chronic Disease Indicators (CDI)** z databázy [data.gov](https://data.gov/).\n",
    "\n",
    "**Hinty:**\n",
    "1. Vyhľadajte na stránke dataset s názvom \"U.S. Chronic Disease Indicators (CDI)\".\n",
    "2. Zanalyzujte možnosti stiahnutia datasetu.\n",
    "3. Zanalyzujte možnosti načítania datasetu do DataFrame (použite dokumentáciu k metóde `pd.read_csv(...)`) - [Dokumentácia read_csv](https://pandas.pydata.org/docs/reference/api/pandas.read_csv.html)\n",
    "4. Stiahnite dataset a načítajte ho do premennej `data`.\n",
    "5. Skontrolujte správne načítanie datasetu."
   ],
   "id": "54f5256e9555264e"
  },
  {
   "metadata": {
    "ExecuteTime": {
     "end_time": "2025-03-20T14:09:40.808221900Z",
     "start_time": "2025-03-20T14:07:04.624952900Z"
    }
   },
   "cell_type": "code",
   "source": [
    "# TODO\n",
    "import pandas as pd\n",
    "# stiahnutie dat cez url odkaz\n",
    "data = pd.read_csv(\"https://data.cdc.gov/api/views/hksd-2xuw/rows.csv?accessType=DOWNLOAD\")\n",
    "\n",
    "#print(data.info)\n",
    "# vypis prvych 5 riadkov\n",
    "data.head()\n"
   ],
   "id": "43a1e621a2ceea1f",
   "outputs": [
    {
     "data": {
      "text/plain": "   YearStart  YearEnd LocationAbbr LocationDesc DataSource     Topic  \\\n0       2019     2019           AR     Arkansas      BRFSS  Diabetes   \n1       2019     2019           ID        Idaho      BRFSS  Diabetes   \n2       2019     2019           IN      Indiana      YRBSS     Sleep   \n3       2019     2019           IA         Iowa       NVSS    Asthma   \n4       2019     2019           IA         Iowa      BRFSS    Asthma   \n\n                                            Question  Response DataValueUnit  \\\n0                              Diabetes among adults       NaN             %   \n1                              Diabetes among adults       NaN             %   \n2    Short sleep duration among high school students       NaN             %   \n3  Asthma mortality among all people, underlying ...       NaN        Number   \n4                        Current asthma among adults       NaN             %   \n\n      DataValueType  ...  TopicID  QuestionID ResponseID DataValueTypeID  \\\n0  Crude Prevalence  ...      DIA       DIA01        NaN         CRDPREV   \n1  Crude Prevalence  ...      DIA       DIA01        NaN         CRDPREV   \n2  Crude Prevalence  ...     SLEP       SLP02        NaN         CRDPREV   \n3            Number  ...      AST       AST01        NaN            NMBR   \n4  Crude Prevalence  ...      AST       AST02        NaN         CRDPREV   \n\n   StratificationCategoryID1  StratificationID1 StratificationCategoryID2  \\\n0                        SEX               SEXM                       NaN   \n1                        SEX               SEXM                       NaN   \n2                      GRADE              GRD12                       NaN   \n3                    OVERALL                OVR                       NaN   \n4                        AGE            AGE1844                       NaN   \n\n  StratificationID2  StratificationCategoryID3  StratificationID3  \n0               NaN                        NaN                NaN  \n1               NaN                        NaN                NaN  \n2               NaN                        NaN                NaN  \n3               NaN                        NaN                NaN  \n4               NaN                        NaN                NaN  \n\n[5 rows x 34 columns]",
      "text/html": "<div>\n<style scoped>\n    .dataframe tbody tr th:only-of-type {\n        vertical-align: middle;\n    }\n\n    .dataframe tbody tr th {\n        vertical-align: top;\n    }\n\n    .dataframe thead th {\n        text-align: right;\n    }\n</style>\n<table border=\"1\" class=\"dataframe\">\n  <thead>\n    <tr style=\"text-align: right;\">\n      <th></th>\n      <th>YearStart</th>\n      <th>YearEnd</th>\n      <th>LocationAbbr</th>\n      <th>LocationDesc</th>\n      <th>DataSource</th>\n      <th>Topic</th>\n      <th>Question</th>\n      <th>Response</th>\n      <th>DataValueUnit</th>\n      <th>DataValueType</th>\n      <th>...</th>\n      <th>TopicID</th>\n      <th>QuestionID</th>\n      <th>ResponseID</th>\n      <th>DataValueTypeID</th>\n      <th>StratificationCategoryID1</th>\n      <th>StratificationID1</th>\n      <th>StratificationCategoryID2</th>\n      <th>StratificationID2</th>\n      <th>StratificationCategoryID3</th>\n      <th>StratificationID3</th>\n    </tr>\n  </thead>\n  <tbody>\n    <tr>\n      <th>0</th>\n      <td>2019</td>\n      <td>2019</td>\n      <td>AR</td>\n      <td>Arkansas</td>\n      <td>BRFSS</td>\n      <td>Diabetes</td>\n      <td>Diabetes among adults</td>\n      <td>NaN</td>\n      <td>%</td>\n      <td>Crude Prevalence</td>\n      <td>...</td>\n      <td>DIA</td>\n      <td>DIA01</td>\n      <td>NaN</td>\n      <td>CRDPREV</td>\n      <td>SEX</td>\n      <td>SEXM</td>\n      <td>NaN</td>\n      <td>NaN</td>\n      <td>NaN</td>\n      <td>NaN</td>\n    </tr>\n    <tr>\n      <th>1</th>\n      <td>2019</td>\n      <td>2019</td>\n      <td>ID</td>\n      <td>Idaho</td>\n      <td>BRFSS</td>\n      <td>Diabetes</td>\n      <td>Diabetes among adults</td>\n      <td>NaN</td>\n      <td>%</td>\n      <td>Crude Prevalence</td>\n      <td>...</td>\n      <td>DIA</td>\n      <td>DIA01</td>\n      <td>NaN</td>\n      <td>CRDPREV</td>\n      <td>SEX</td>\n      <td>SEXM</td>\n      <td>NaN</td>\n      <td>NaN</td>\n      <td>NaN</td>\n      <td>NaN</td>\n    </tr>\n    <tr>\n      <th>2</th>\n      <td>2019</td>\n      <td>2019</td>\n      <td>IN</td>\n      <td>Indiana</td>\n      <td>YRBSS</td>\n      <td>Sleep</td>\n      <td>Short sleep duration among high school students</td>\n      <td>NaN</td>\n      <td>%</td>\n      <td>Crude Prevalence</td>\n      <td>...</td>\n      <td>SLEP</td>\n      <td>SLP02</td>\n      <td>NaN</td>\n      <td>CRDPREV</td>\n      <td>GRADE</td>\n      <td>GRD12</td>\n      <td>NaN</td>\n      <td>NaN</td>\n      <td>NaN</td>\n      <td>NaN</td>\n    </tr>\n    <tr>\n      <th>3</th>\n      <td>2019</td>\n      <td>2019</td>\n      <td>IA</td>\n      <td>Iowa</td>\n      <td>NVSS</td>\n      <td>Asthma</td>\n      <td>Asthma mortality among all people, underlying ...</td>\n      <td>NaN</td>\n      <td>Number</td>\n      <td>Number</td>\n      <td>...</td>\n      <td>AST</td>\n      <td>AST01</td>\n      <td>NaN</td>\n      <td>NMBR</td>\n      <td>OVERALL</td>\n      <td>OVR</td>\n      <td>NaN</td>\n      <td>NaN</td>\n      <td>NaN</td>\n      <td>NaN</td>\n    </tr>\n    <tr>\n      <th>4</th>\n      <td>2019</td>\n      <td>2019</td>\n      <td>IA</td>\n      <td>Iowa</td>\n      <td>BRFSS</td>\n      <td>Asthma</td>\n      <td>Current asthma among adults</td>\n      <td>NaN</td>\n      <td>%</td>\n      <td>Crude Prevalence</td>\n      <td>...</td>\n      <td>AST</td>\n      <td>AST02</td>\n      <td>NaN</td>\n      <td>CRDPREV</td>\n      <td>AGE</td>\n      <td>AGE1844</td>\n      <td>NaN</td>\n      <td>NaN</td>\n      <td>NaN</td>\n      <td>NaN</td>\n    </tr>\n  </tbody>\n</table>\n<p>5 rows × 34 columns</p>\n</div>"
     },
     "execution_count": 2,
     "metadata": {},
     "output_type": "execute_result"
    }
   ],
   "execution_count": 2
  },
  {
   "metadata": {},
   "cell_type": "markdown",
   "source": [
    "## **2. Fázy predspracovania**\n",
    "Pri práci s údajmi je často uvádzaných 6 hlavných krokov:\n",
    "1. Objavovanie (explore)\n",
    "2. Očistenie (clean)\n",
    "3. Úpravy (mutate)\n",
    "4. Popis (describe)\n",
    "5. Vizualizácia (visualize)\n",
    "6. Analýza (analyze)\n",
    "\n",
    "Nasledujúce sekcie ukazujú, ako tieto fázy aplikovať na dataset.\n",
    "\n",
    "---\n",
    "\n",
    "## **3. Objavovanie (explore)**\n",
    "\n",
    "**Objavovanie dát** znamená vytvoriť si prvotný dojem o údajoch. Tento proces zahŕňa napríklad:\n",
    "- Zistenie, koľko riadkov a stĺpcov údaje obsahujú.\n",
    "- Preskúmanie, či existujú chýbajúce údaje (null, NaN).\n",
    "- Overenie, či sú hodnoty v stĺpcoch logické (napr. negatívny vek u pacienta?).\n",
    "- Prezrenie si základnej štatistiku numerických premenných.\n",
    "\n",
    "Môžeme použiť:\n",
    "- `data.info()` – zobrazí počet riadkov, stĺpcov a typy stĺpcov (obj, float, int, category) - [Dokumentácia info](https://pandas.pydata.org/pandas-docs/stable/reference/api/pandas.DataFrame.info.html).\n",
    "- `data.describe()` – zobrazí štatistiku pre číselné premenné (count, mean, std, min, max, quartiles atď.) - [Dokumentácia describe](https://pandas.pydata.org/pandas-docs/stable/reference/api/pandas.DataFrame.describe.html).\n",
    "- `data.head()` a `data.tail()` – ukážu prvých/posledných pár riadkov - [Dokumentácia head](https://pandas.pydata.org/pandas-docs/stable/reference/api/pandas.DataFrame.head.html), [Dokumentácia tail](https://pandas.pydata.org/pandas-docs/stable/reference/api/pandas.DataFrame.tail.html).\n",
    "- `data.columns` – vráti zoznam názvov stĺpcov - [Dokumentácia columns](https://pandas.pydata.org/pandas-docs/stable/reference/api/pandas.DataFrame.columns.html).\n",
    "\n",
    "**Prečo to robiť:**\n",
    "- V praxi takto odhalíte napr. zlé načítanie údajov, extrémne hodnoty, nečakané stĺpce (napr. ID, duplicitné stĺpce), nedefinované hodnoty alebo formátové chyby.\n"
   ],
   "id": "7dbe54a55d2e356f"
  },
  {
   "metadata": {},
   "cell_type": "markdown",
   "source": [
    "**Úloha:** Vypíšte **posledných 5 riadkov** datasetu.\n",
    "\n"
   ],
   "id": "565af8a49db38279"
  },
  {
   "metadata": {
    "ExecuteTime": {
     "end_time": "2025-03-20T07:08:49.431922800Z",
     "start_time": "2025-03-20T07:08:49.400847600Z"
    }
   },
   "cell_type": "code",
   "source": [
    "# TODO\n",
    "# vypis poslednych 5 riadkov\n",
    "print(data.tail(5))"
   ],
   "id": "dc01d1cc11235ae7",
   "outputs": [
    {
     "name": "stdout",
     "output_type": "stream",
     "text": [
      "        YearStart  YearEnd LocationAbbr    LocationDesc DataSource  \\\n",
      "309210       2022     2022           VI  Virgin Islands      BRFSS   \n",
      "309211       2022     2022           WV   West Virginia      BRFSS   \n",
      "309212       2022     2022           WI       Wisconsin      BRFSS   \n",
      "309213       2022     2022           VT         Vermont      BRFSS   \n",
      "309214       2022     2022           WA      Washington      BRFSS   \n",
      "\n",
      "                                        Topic  \\\n",
      "309210                                Tobacco   \n",
      "309211  Chronic Obstructive Pulmonary Disease   \n",
      "309212                           Immunization   \n",
      "309213          Social Determinants of Health   \n",
      "309214                                Alcohol   \n",
      "\n",
      "                                                 Question  Response  \\\n",
      "309210  Quit attempts in the past year among adult cur...       NaN   \n",
      "309211  Chronic obstructive pulmonary disease among ad...       NaN   \n",
      "309212  Pneumococcal vaccination among adults aged 65 ...       NaN   \n",
      "309213  Lack of health insurance among adults aged 18-...       NaN   \n",
      "309214             Binge drinking prevalence among adults       NaN   \n",
      "\n",
      "       DataValueUnit            DataValueType  ...  TopicID  QuestionID  \\\n",
      "309210             %  Age-adjusted Prevalence  ...      TOB       TOB06   \n",
      "309211             %         Crude Prevalence  ...     COPD      COPD01   \n",
      "309212             %         Crude Prevalence  ...      IMM       IMM04   \n",
      "309213             %         Crude Prevalence  ...     SDOH       SDH09   \n",
      "309214             %  Age-adjusted Prevalence  ...      ALC       ALC06   \n",
      "\n",
      "       ResponseID DataValueTypeID  StratificationCategoryID1  \\\n",
      "309210        NaN      AGEADJPREV                       RACE   \n",
      "309211        NaN         CRDPREV                    OVERALL   \n",
      "309212        NaN         CRDPREV                       RACE   \n",
      "309213        NaN         CRDPREV                       RACE   \n",
      "309214        NaN      AGEADJPREV                        SEX   \n",
      "\n",
      "        StratificationID1 StratificationCategoryID2 StratificationID2  \\\n",
      "309210               AIAN                       NaN               NaN   \n",
      "309211                OVR                       NaN               NaN   \n",
      "309212                BLK                       NaN               NaN   \n",
      "309213               HAPI                       NaN               NaN   \n",
      "309214               SEXM                       NaN               NaN   \n",
      "\n",
      "        StratificationCategoryID3  StratificationID3  \n",
      "309210                        NaN                NaN  \n",
      "309211                        NaN                NaN  \n",
      "309212                        NaN                NaN  \n",
      "309213                        NaN                NaN  \n",
      "309214                        NaN                NaN  \n",
      "\n",
      "[5 rows x 34 columns]\n"
     ]
    }
   ],
   "execution_count": 2
  },
  {
   "metadata": {},
   "cell_type": "markdown",
   "source": [
    "**Úloha:** Zobrazte zoznam **všetkých stĺpcov** a skontrolujte, či obsahuje stĺpec `LocationDesc`.\n"
   ],
   "id": "475b655c2af91d51"
  },
  {
   "metadata": {
    "ExecuteTime": {
     "end_time": "2025-03-20T07:09:01.107725300Z",
     "start_time": "2025-03-20T07:09:01.039740600Z"
    }
   },
   "cell_type": "code",
   "source": [
    "# TODO\n",
    "# zobrazenie vsetkych stlpcov\n",
    "print(data.columns)\n",
    "\n",
    "# kontrola, ci dataset obsahuje stlpec 'LocationDesc'\n",
    "if 'LocationDesc' in data.columns:\n",
    "    print(\"Stĺpec 'LocationDesc' existuje v datasete.\")\n",
    "else:\n",
    "    print(\"Stĺpec 'LocationDesc' neexistuje v datasete.\")"
   ],
   "id": "3b100349a55c7462",
   "outputs": [
    {
     "name": "stdout",
     "output_type": "stream",
     "text": [
      "Index(['YearStart', 'YearEnd', 'LocationAbbr', 'LocationDesc', 'DataSource',\n",
      "       'Topic', 'Question', 'Response', 'DataValueUnit', 'DataValueType',\n",
      "       'DataValue', 'DataValueAlt', 'DataValueFootnoteSymbol',\n",
      "       'DataValueFootnote', 'LowConfidenceLimit', 'HighConfidenceLimit',\n",
      "       'StratificationCategory1', 'Stratification1', 'StratificationCategory2',\n",
      "       'Stratification2', 'StratificationCategory3', 'Stratification3',\n",
      "       'Geolocation', 'LocationID', 'TopicID', 'QuestionID', 'ResponseID',\n",
      "       'DataValueTypeID', 'StratificationCategoryID1', 'StratificationID1',\n",
      "       'StratificationCategoryID2', 'StratificationID2',\n",
      "       'StratificationCategoryID3', 'StratificationID3'],\n",
      "      dtype='object')\n",
      "Stĺpec 'LocationDesc' existuje v datasete.\n"
     ]
    }
   ],
   "execution_count": 3
  },
  {
   "metadata": {},
   "cell_type": "markdown",
   "source": [
    "**Úloha:** Vyberte jeden stĺpec (napr. `YearStart`) a vypíšte jeho unikátne hodnoty. (Použite metódu `unique()`.) - [Dokumentácia unique](https://pandas.pydata.org/docs/reference/api/pandas.Series.unique.html)"
   ],
   "id": "8d300821ef9a64c4"
  },
  {
   "metadata": {
    "ExecuteTime": {
     "end_time": "2025-03-20T07:09:05.715870800Z",
     "start_time": "2025-03-20T07:09:05.675971700Z"
    }
   },
   "cell_type": "code",
   "source": [
    "# TODO\n",
    "data['YearStart'].unique()"
   ],
   "id": "baec0653c73ebfa7",
   "outputs": [
    {
     "data": {
      "text/plain": "array([2019, 2020, 2021, 2022, 2015, 2016, 2018])"
     },
     "execution_count": 4,
     "metadata": {},
     "output_type": "execute_result"
    }
   ],
   "execution_count": 4
  },
  {
   "metadata": {},
   "cell_type": "markdown",
   "source": [
    "**Kategorické a numerické premenné**\n",
    "- **Kategorické premenné** sú premenné, ktoré majú obmedzený počet hodnôt (napr. mená, farby, kategórie).\n",
    "- **Numerické premenné** sú premenné, ktoré majú hodnoty v číselnej forme (napr. vek, výška, cena).\n",
    "- **Časové premenné** sú špeciálny typ numerických premenných, ktoré reprezentujú čas (napr. dátum, čas, časová zóna).\n",
    "- **Textové premenné** sú premenné, ktoré obsahujú text (napr. komentáre, popisy).\n",
    "- **Binárne premenné** sú špeciálny typ kategorických premenných, ktoré majú iba dve hodnoty (napr. True/False, 0/1).\n",
    "\n",
    "Prečo je dôležité rozlišovať medzi nimi?\n",
    "- Pri vizualizácii sa používajú rôzne typy grafov pre rôzne typy premenných.\n",
    "- Pri analýze sa používajú rôzne štatistické metódy pre rôzne typy premenných.\n",
    "- Pri strojovom učení je potrebné transformovať premenné do vhodného formátu.\n",
    "\n",
    "Transformácia premenných:\n",
    "- Kategorické premenné sa môžu transformovať na numerické (napr. One-Hot Encoding).\n",
    "- Numerické premenné sa môžu transformovať na kategorické (napr. diskretizácia).\n",
    "- Textové premenné sa môžu transformovať na numerické (napr. TF-IDF).\n",
    "- Časové premenné sa môžu transformovať na numerické (napr. Unix timestamp).\n",
    "- Binárne premenné sa môžu transformovať na numerické (0/1) alebo kategorické (True/False).\n",
    "\n",
    "Vlastnosti numerických premenných:\n",
    "- **Rozsah hodnôt** - či je hodnota obmedzená (napr. vek) alebo neobmedzená (napr. cena) - [Dokumentácia min](https://pandas.pydata.org/docs/reference/api/pandas.DataFrame.min.html), [Dokumentácia max](https://pandas.pydata.org/docs/reference/api/pandas.DataFrame.max.html).\n",
    "- **Variabilita** (Variance) - či sú hodnoty rovnomerne rozložené alebo sa sústreďujú okolo priemeru - [Dokumentácia var](https://pandas.pydata.org/docs/reference/api/pandas.DataFrame.var.html).\n",
    "- **Smerodajná odchýlka** (Standard deviation) - miera variability hodnôt - [Dokumentácia std](https://pandas.pydata.org/docs/reference/api/pandas.DataFrame.std.html).\n",
    "- **Kvartily** (Quartiles) - hodnoty, ktoré rozdeľujú súbor hodnôt na štvrtiny - [Dokumentácia quantile](https://pandas.pydata.org/docs/reference/api/pandas.DataFrame.quantile.html).\n",
    "- **Medián** (Median) - hodnota, ktorá rozdeľuje súbor hodnôt na dve rovnaké polovice - [Dokumentácia median](https://pandas.pydata.org/docs/reference/api/pandas.DataFrame.median.html).\n",
    "- **Priemer** (Mean) - súčet hodnôt delený počtom hodnôt, ovplyvnený extrémnymi hodnotami - [Dokumentácia mean](https://pandas.pydata.org/docs/reference/api/pandas.DataFrame.mean.html).\n",
    "- **Modus** (Mode) - hodnota, ktorá sa v súbore hodnôt vyskytuje najčastejšie - [Dokumentácia mode](https://pandas.pydata.org/docs/reference/api/pandas.DataFrame.mode.html).\n",
    "\n",
    "**Úloha:** Zistite, či stĺpec `DataValue` je kategorický alebo numerický. (Použite metódu `dtypes`.) - [Dokumentácia dtypes](https://pandas.pydata.org/docs/reference/api/pandas.DataFrame.dtypes.html)"
   ],
   "id": "59acadf24133f5f5"
  },
  {
   "metadata": {
    "ExecuteTime": {
     "end_time": "2025-03-20T07:09:10.387192100Z",
     "start_time": "2025-03-20T07:09:10.320438800Z"
    }
   },
   "cell_type": "code",
   "source": [
    "# TODO\n",
    "data['DataValue'].dtypes"
   ],
   "id": "aa0d0981b6002f38",
   "outputs": [
    {
     "data": {
      "text/plain": "dtype('float64')"
     },
     "execution_count": 5,
     "metadata": {},
     "output_type": "execute_result"
    }
   ],
   "execution_count": 5
  },
  {
   "metadata": {},
   "cell_type": "markdown",
   "source": [
    "Triedenie a filtrovanie podľa hodnôt stĺpcov\n",
    "- **Triedenie** sa vykonáva pomocou metódy `sort_values` - [Dokumentácia sort_values](https://pandas.pydata.org/docs/reference/api/pandas.DataFrame.sort_values.html).\n",
    "- **Filtrovanie** sa vykonáva pomocou metódy `query` alebo zápisu `data[data['stĺpec'] == hodnota]`.\n",
    "- **Výber** stĺpcov sa vykonáva pomocou zápisu `data[['stĺpec1', 'stĺpec2']]`.\n",
    "- **Výber** riadkov sa vykonáva pomocou zápisu `data[riadky]`, kde `riadky` môže byť napr. `data['stĺpec'] > hodnota`.\n",
    "\n",
    "**Úloha:** Zoraďte dataset podľa stĺpca `YearStart` vzostupne a zobrazte prvých 5 riadkov."
   ],
   "id": "ddae4eb690d7f1ee"
  },
  {
   "metadata": {
    "ExecuteTime": {
     "end_time": "2025-03-20T07:09:14.943916700Z",
     "start_time": "2025-03-20T07:09:14.787450800Z"
    }
   },
   "cell_type": "code",
   "source": [
    "# TODO\n",
    "data.sort_values(by='YearStart', ascending=True).head()"
   ],
   "id": "2bda3f8726183059",
   "outputs": [
    {
     "data": {
      "text/plain": "      YearStart  YearEnd LocationAbbr LocationDesc     DataSource   Topic  \\\n8780       2015     2019           TN    Tennessee  US Cancer DVT  Cancer   \n8778       2015     2019           AK       Alaska  US Cancer DVT  Cancer   \n8776       2015     2019           MN    Minnesota  US Cancer DVT  Cancer   \n8775       2015     2019           AK       Alaska  US Cancer DVT  Cancer   \n8805       2015     2019           OR       Oregon  US Cancer DVT  Cancer   \n\n                                               Question  Response  \\\n8780  Colon and rectum (colorectal) cancer mortality...       NaN   \n8778  Lung and bronchial cancer mortality among all ...       NaN   \n8776  Prostate cancer mortality among all males, und...       NaN   \n8775  Lung and bronchial cancer mortality among all ...       NaN   \n8805  Prostate cancer mortality among all males, und...       NaN   \n\n     DataValueUnit      DataValueType  ...  TopicID  QuestionID ResponseID  \\\n8780        Number             Number  ...      CAN       CAN01        NaN   \n8778   per 100,000         Crude Rate  ...      CAN       CAN04        NaN   \n8776   per 100,000  Age-adjusted Rate  ...      CAN       CAN05        NaN   \n8775   per 100,000  Age-adjusted Rate  ...      CAN       CAN04        NaN   \n8805        Number             Number  ...      CAN       CAN05        NaN   \n\n     DataValueTypeID  StratificationCategoryID1  StratificationID1  \\\n8780            NMBR                        SEX               SEXF   \n8778         CRDRATE                       RACE                BLK   \n8776      AGEADJRATE                       RACE                WHT   \n8775      AGEADJRATE                    OVERALL                OVR   \n8805            NMBR                       RACE                API   \n\n     StratificationCategoryID2 StratificationID2  StratificationCategoryID3  \\\n8780                       NaN               NaN                        NaN   \n8778                       NaN               NaN                        NaN   \n8776                       NaN               NaN                        NaN   \n8775                       NaN               NaN                        NaN   \n8805                       NaN               NaN                        NaN   \n\n      StratificationID3  \n8780                NaN  \n8778                NaN  \n8776                NaN  \n8775                NaN  \n8805                NaN  \n\n[5 rows x 34 columns]",
      "text/html": "<div>\n<style scoped>\n    .dataframe tbody tr th:only-of-type {\n        vertical-align: middle;\n    }\n\n    .dataframe tbody tr th {\n        vertical-align: top;\n    }\n\n    .dataframe thead th {\n        text-align: right;\n    }\n</style>\n<table border=\"1\" class=\"dataframe\">\n  <thead>\n    <tr style=\"text-align: right;\">\n      <th></th>\n      <th>YearStart</th>\n      <th>YearEnd</th>\n      <th>LocationAbbr</th>\n      <th>LocationDesc</th>\n      <th>DataSource</th>\n      <th>Topic</th>\n      <th>Question</th>\n      <th>Response</th>\n      <th>DataValueUnit</th>\n      <th>DataValueType</th>\n      <th>...</th>\n      <th>TopicID</th>\n      <th>QuestionID</th>\n      <th>ResponseID</th>\n      <th>DataValueTypeID</th>\n      <th>StratificationCategoryID1</th>\n      <th>StratificationID1</th>\n      <th>StratificationCategoryID2</th>\n      <th>StratificationID2</th>\n      <th>StratificationCategoryID3</th>\n      <th>StratificationID3</th>\n    </tr>\n  </thead>\n  <tbody>\n    <tr>\n      <th>8780</th>\n      <td>2015</td>\n      <td>2019</td>\n      <td>TN</td>\n      <td>Tennessee</td>\n      <td>US Cancer DVT</td>\n      <td>Cancer</td>\n      <td>Colon and rectum (colorectal) cancer mortality...</td>\n      <td>NaN</td>\n      <td>Number</td>\n      <td>Number</td>\n      <td>...</td>\n      <td>CAN</td>\n      <td>CAN01</td>\n      <td>NaN</td>\n      <td>NMBR</td>\n      <td>SEX</td>\n      <td>SEXF</td>\n      <td>NaN</td>\n      <td>NaN</td>\n      <td>NaN</td>\n      <td>NaN</td>\n    </tr>\n    <tr>\n      <th>8778</th>\n      <td>2015</td>\n      <td>2019</td>\n      <td>AK</td>\n      <td>Alaska</td>\n      <td>US Cancer DVT</td>\n      <td>Cancer</td>\n      <td>Lung and bronchial cancer mortality among all ...</td>\n      <td>NaN</td>\n      <td>per 100,000</td>\n      <td>Crude Rate</td>\n      <td>...</td>\n      <td>CAN</td>\n      <td>CAN04</td>\n      <td>NaN</td>\n      <td>CRDRATE</td>\n      <td>RACE</td>\n      <td>BLK</td>\n      <td>NaN</td>\n      <td>NaN</td>\n      <td>NaN</td>\n      <td>NaN</td>\n    </tr>\n    <tr>\n      <th>8776</th>\n      <td>2015</td>\n      <td>2019</td>\n      <td>MN</td>\n      <td>Minnesota</td>\n      <td>US Cancer DVT</td>\n      <td>Cancer</td>\n      <td>Prostate cancer mortality among all males, und...</td>\n      <td>NaN</td>\n      <td>per 100,000</td>\n      <td>Age-adjusted Rate</td>\n      <td>...</td>\n      <td>CAN</td>\n      <td>CAN05</td>\n      <td>NaN</td>\n      <td>AGEADJRATE</td>\n      <td>RACE</td>\n      <td>WHT</td>\n      <td>NaN</td>\n      <td>NaN</td>\n      <td>NaN</td>\n      <td>NaN</td>\n    </tr>\n    <tr>\n      <th>8775</th>\n      <td>2015</td>\n      <td>2019</td>\n      <td>AK</td>\n      <td>Alaska</td>\n      <td>US Cancer DVT</td>\n      <td>Cancer</td>\n      <td>Lung and bronchial cancer mortality among all ...</td>\n      <td>NaN</td>\n      <td>per 100,000</td>\n      <td>Age-adjusted Rate</td>\n      <td>...</td>\n      <td>CAN</td>\n      <td>CAN04</td>\n      <td>NaN</td>\n      <td>AGEADJRATE</td>\n      <td>OVERALL</td>\n      <td>OVR</td>\n      <td>NaN</td>\n      <td>NaN</td>\n      <td>NaN</td>\n      <td>NaN</td>\n    </tr>\n    <tr>\n      <th>8805</th>\n      <td>2015</td>\n      <td>2019</td>\n      <td>OR</td>\n      <td>Oregon</td>\n      <td>US Cancer DVT</td>\n      <td>Cancer</td>\n      <td>Prostate cancer mortality among all males, und...</td>\n      <td>NaN</td>\n      <td>Number</td>\n      <td>Number</td>\n      <td>...</td>\n      <td>CAN</td>\n      <td>CAN05</td>\n      <td>NaN</td>\n      <td>NMBR</td>\n      <td>RACE</td>\n      <td>API</td>\n      <td>NaN</td>\n      <td>NaN</td>\n      <td>NaN</td>\n      <td>NaN</td>\n    </tr>\n  </tbody>\n</table>\n<p>5 rows × 34 columns</p>\n</div>"
     },
     "execution_count": 6,
     "metadata": {},
     "output_type": "execute_result"
    }
   ],
   "execution_count": 6
  },
  {
   "metadata": {},
   "cell_type": "markdown",
   "source": [
    "\n",
    "---\n",
    "\n",
    "## **4. Očistenie (clean)**\n",
    "\n",
    "Pri **čistení dát** odstránime chybné, duplicitné alebo chýbajúce hodnoty a urobíme validáciu.\n",
    "\n",
    "Môžeme použiť:\n",
    "- `fillna(value)` – doplní chýbajúce hodnoty zadanou hodnotou - [Dokumentácia fillna](https://pandas.pydata.org/docs/reference/api/pandas.DataFrame.fillna.html)\n",
    "- `drop(columns=['col1', 'col2'])` – odstráni stĺpce - [Dokumentácia drop](https://pandas.pydata.org/docs/reference/api/pandas.DataFrame.drop.html)\n",
    "- `drop(index=[0, 1, 2])` – odstráni riadky podľa indexov - [Dokumentácia drop](https://pandas.pydata.org/docs/reference/api/pandas.DataFrame.drop.html)\n",
    "- `dropna()` – vyhodí riadky, ktoré majú aspoň v jednom stĺpci chýbajúce hodnoty - [Dokumentácia dropna](https://pandas.pydata.org/docs/reference/api/pandas.DataFrame.dropna.html)\n",
    "- `drop_duplicates()` – odstráni duplicitné riadky - [Dokumentácia drop_duplicates](https://pandas.pydata.org/docs/reference/api/pandas.DataFrame.drop_duplicates.html)\n",
    "- Zmena typov: `data['Topic'] = data['Topic'].astype('category')` - mení typ stĺpca na kategorický - [Dokumentácia astype](https://pandas.pydata.org/docs/reference/api/pandas.Series.astype.html)\n",
    "- Overovanie logiky: Môžeme napr. odfiltrovať záznamy, kde `YearStart < 2000` (ak vieme, že staršie roky sú nerelevantné).\n",
    "\n",
    "**Prečo to robiť:**\n",
    "- Chýbajúce údaje môžu skresliť výsledky analýzy.\n",
    "- Duplicitné riadky môžu spôsobiť chyby vovýsledkoch štatistík.\n",
    "- Nesprávne typy môžu brániť vo výpočtoch alebo vizualizácii.\n",
    "\n",
    "**Príklad**"
   ],
   "id": "50c140341836b7dc"
  },
  {
   "metadata": {
    "ExecuteTime": {
     "end_time": "2025-03-20T14:10:05.218667400Z",
     "start_time": "2025-03-20T14:10:04.835058400Z"
    }
   },
   "cell_type": "code",
   "source": [
    "# drop the NA values in the 'DataValue' column\n",
    "data_clean = data.dropna(subset=['DataValue'])\n",
    "\n",
    "# drop duplicates\n",
    "data_clean = data_clean.drop_duplicates()\n",
    "\n",
    "# change the data type of the 'Topic' column to category\n",
    "data_clean['Topic'] = data_clean['Topic'].astype('category')"
   ],
   "id": "f4188ffb194d4bf0",
   "outputs": [],
   "execution_count": 3
  },
  {
   "metadata": {},
   "cell_type": "markdown",
   "source": [
    "**Úloha:** Zistite, koľko chýbajúcich hodnôt obsahuje stĺpec `HighConfidenceLimit`. Použite metódy `isnull()` a `sum()`. - [Dokumentácia isnull](https://pandas.pydata.org/docs/reference/api/pandas.DataFrame.isnull.html), [Dokumentácia sum](https://pandas.pydata.org/docs/reference/api/pandas.DataFrame.sum.html)\n"
   ],
   "id": "feb91a7492412d38"
  },
  {
   "metadata": {
    "ExecuteTime": {
     "end_time": "2025-03-20T14:10:18.162753700Z",
     "start_time": "2025-03-20T14:10:18.135904200Z"
    }
   },
   "cell_type": "code",
   "source": [
    "# TODO\n",
    "print(data_clean['HighConfidenceLimit'].isnull().sum())"
   ],
   "id": "9b2ce0a0dedf7e10",
   "outputs": [
    {
     "name": "stdout",
     "output_type": "stream",
     "text": [
      "20306\n"
     ]
    }
   ],
   "execution_count": 5
  },
  {
   "metadata": {},
   "cell_type": "markdown",
   "source": [
    "**Úloha:** Vytvorte nový DataFrame `data_no_na` a odstráňte všetky riadky, kde chýba `HighConfidenceLimit`. Použite parameter `subset` v metóde `dropna()`. - [Dokumentácia dropna](https://pandas.pydata.org/docs/reference/api/pandas.DataFrame.dropna.html)\n"
   ],
   "id": "ce92f045c3b12b96"
  },
  {
   "metadata": {
    "ExecuteTime": {
     "end_time": "2025-03-20T14:10:22.987535100Z",
     "start_time": "2025-03-20T14:10:22.922291100Z"
    }
   },
   "cell_type": "code",
   "source": [
    "# TODO\n",
    "data_no_na = data.dropna(subset='HighConfidenceLimit')"
   ],
   "id": "97b1357fcdcc2a89",
   "outputs": [],
   "execution_count": 6
  },
  {
   "metadata": {},
   "cell_type": "markdown",
   "source": [
    "**Úloha:** Overte, že `data_no_na` nemá žiadne chýbajúce hodnoty v danom stĺpci.\n"
   ],
   "id": "2d18a10057875f3d"
  },
  {
   "metadata": {
    "ExecuteTime": {
     "end_time": "2025-03-20T14:10:26.865454200Z",
     "start_time": "2025-03-20T14:10:26.828578Z"
    }
   },
   "cell_type": "code",
   "source": [
    "# TODO\n",
    "num = data_no_na['HighConfidenceLimit'].isnull().sum()\n",
    "print(num)"
   ],
   "id": "2bf5b0cd7410f225",
   "outputs": [
    {
     "name": "stdout",
     "output_type": "stream",
     "text": [
      "0\n"
     ]
    }
   ],
   "execution_count": 7
  },
  {
   "metadata": {},
   "cell_type": "markdown",
   "source": [
    "**Redukcia dát:**\n",
    "- **Odstránenie stĺpcov** s nízkou informačnou hodnotou.\n",
    "- **Odstránenie riadkov** s chýbajúcimi hodnotami, prípadne s hodnotami ktoré pre nás nie sú podstatné.\n",
    "\n",
    "**Príklad:** Z datasetu vybrerieme len množinu stĺpcov, ktorá nás zaujíma, a odstránime nepotrebné stĺpce. Z údajov ďalej použijeme iba tie, ktoré sú pre nás relevantné, napr. tie, kde je hodnota `YearStart` väčšia ako 2015.\n"
   ],
   "id": "36606f7dbc3a0b67"
  },
  {
   "metadata": {
    "ExecuteTime": {
     "end_time": "2025-03-20T14:10:30.281875900Z",
     "start_time": "2025-03-20T14:10:30.191298300Z"
    }
   },
   "cell_type": "code",
   "source": [
    "data_selected = data_clean[['YearStart', 'YearEnd', 'LocationAbbr', 'LocationDesc', 'DataSource', 'Topic', 'TopicID', 'Question', 'DataValueUnit', 'DataValueType', 'DataValue', 'DataValueAlt', 'LowConfidenceLimit', 'HighConfidenceLimit', 'StratificationCategory1', 'Stratification1']]\n",
    "data_selected = data_selected[data_selected['YearStart'] > 2015]\n",
    "\n",
    "data_selected"
   ],
   "id": "7e75a4b1913b2ec6",
   "outputs": [
    {
     "data": {
      "text/plain": "        YearStart  YearEnd LocationAbbr    LocationDesc DataSource  \\\n0            2019     2019           AR        Arkansas      BRFSS   \n1            2019     2019           ID           Idaho      BRFSS   \n3            2019     2019           IA            Iowa       NVSS   \n4            2019     2019           IA            Iowa      BRFSS   \n5            2019     2019           IA            Iowa       NVSS   \n...           ...      ...          ...             ...        ...   \n309208       2022     2022           VT         Vermont      BRFSS   \n309209       2022     2022           VI  Virgin Islands      BRFSS   \n309211       2022     2022           WV   West Virginia      BRFSS   \n309212       2022     2022           WI       Wisconsin      BRFSS   \n309214       2022     2022           WA      Washington      BRFSS   \n\n                                        Topic TopicID  \\\n0                                    Diabetes     DIA   \n1                                    Diabetes     DIA   \n3                                      Asthma     AST   \n4                                      Asthma     AST   \n5                                    Diabetes     DIA   \n...                                       ...     ...   \n309208                                  Sleep    SLEP   \n309209                           Immunization     IMM   \n309211  Chronic Obstructive Pulmonary Disease    COPD   \n309212                           Immunization     IMM   \n309214                                Alcohol     ALC   \n\n                                                 Question DataValueUnit  \\\n0                                   Diabetes among adults             %   \n1                                   Diabetes among adults             %   \n3       Asthma mortality among all people, underlying ...        Number   \n4                             Current asthma among adults             %   \n5       Diabetes mortality among all people, underlyin...        Number   \n...                                                   ...           ...   \n309208                  Short sleep duration among adults             %   \n309209                 Influenza vaccination among adults             %   \n309211  Chronic obstructive pulmonary disease among ad...             %   \n309212  Pneumococcal vaccination among adults aged 65 ...             %   \n309214             Binge drinking prevalence among adults             %   \n\n                  DataValueType  DataValue  DataValueAlt  LowConfidenceLimit  \\\n0              Crude Prevalence       13.6          13.6                12.1   \n1              Crude Prevalence       10.6          10.6                 9.1   \n3                        Number       54.0          54.0                 NaN   \n4              Crude Prevalence       10.3          10.3                 9.1   \n5                        Number       54.0          54.0                 NaN   \n...                         ...        ...           ...                 ...   \n309208         Crude Prevalence       26.5          26.5                16.8   \n309209         Crude Prevalence       34.2          34.2                24.2   \n309211         Crude Prevalence       14.0          14.0                12.8   \n309212         Crude Prevalence       64.2          64.2                52.2   \n309214  Age-adjusted Prevalence       19.2          19.2                18.3   \n\n        HighConfidenceLimit StratificationCategory1      Stratification1  \n0                      15.4                     Sex                 Male  \n1                      12.2                     Sex                 Male  \n3                       NaN                 Overall              Overall  \n4                      11.7                     Age            Age 18-44  \n5                       NaN                     Age             Age 0-44  \n...                     ...                     ...                  ...  \n309208                 39.3          Race/Ethnicity  Asian, non-Hispanic  \n309209                 45.8                     Age             Age >=65  \n309211                 15.2                 Overall              Overall  \n309212                 74.6          Race/Ethnicity  Black, non-Hispanic  \n309214                 20.2                     Sex                 Male  \n\n[202215 rows x 16 columns]",
      "text/html": "<div>\n<style scoped>\n    .dataframe tbody tr th:only-of-type {\n        vertical-align: middle;\n    }\n\n    .dataframe tbody tr th {\n        vertical-align: top;\n    }\n\n    .dataframe thead th {\n        text-align: right;\n    }\n</style>\n<table border=\"1\" class=\"dataframe\">\n  <thead>\n    <tr style=\"text-align: right;\">\n      <th></th>\n      <th>YearStart</th>\n      <th>YearEnd</th>\n      <th>LocationAbbr</th>\n      <th>LocationDesc</th>\n      <th>DataSource</th>\n      <th>Topic</th>\n      <th>TopicID</th>\n      <th>Question</th>\n      <th>DataValueUnit</th>\n      <th>DataValueType</th>\n      <th>DataValue</th>\n      <th>DataValueAlt</th>\n      <th>LowConfidenceLimit</th>\n      <th>HighConfidenceLimit</th>\n      <th>StratificationCategory1</th>\n      <th>Stratification1</th>\n    </tr>\n  </thead>\n  <tbody>\n    <tr>\n      <th>0</th>\n      <td>2019</td>\n      <td>2019</td>\n      <td>AR</td>\n      <td>Arkansas</td>\n      <td>BRFSS</td>\n      <td>Diabetes</td>\n      <td>DIA</td>\n      <td>Diabetes among adults</td>\n      <td>%</td>\n      <td>Crude Prevalence</td>\n      <td>13.6</td>\n      <td>13.6</td>\n      <td>12.1</td>\n      <td>15.4</td>\n      <td>Sex</td>\n      <td>Male</td>\n    </tr>\n    <tr>\n      <th>1</th>\n      <td>2019</td>\n      <td>2019</td>\n      <td>ID</td>\n      <td>Idaho</td>\n      <td>BRFSS</td>\n      <td>Diabetes</td>\n      <td>DIA</td>\n      <td>Diabetes among adults</td>\n      <td>%</td>\n      <td>Crude Prevalence</td>\n      <td>10.6</td>\n      <td>10.6</td>\n      <td>9.1</td>\n      <td>12.2</td>\n      <td>Sex</td>\n      <td>Male</td>\n    </tr>\n    <tr>\n      <th>3</th>\n      <td>2019</td>\n      <td>2019</td>\n      <td>IA</td>\n      <td>Iowa</td>\n      <td>NVSS</td>\n      <td>Asthma</td>\n      <td>AST</td>\n      <td>Asthma mortality among all people, underlying ...</td>\n      <td>Number</td>\n      <td>Number</td>\n      <td>54.0</td>\n      <td>54.0</td>\n      <td>NaN</td>\n      <td>NaN</td>\n      <td>Overall</td>\n      <td>Overall</td>\n    </tr>\n    <tr>\n      <th>4</th>\n      <td>2019</td>\n      <td>2019</td>\n      <td>IA</td>\n      <td>Iowa</td>\n      <td>BRFSS</td>\n      <td>Asthma</td>\n      <td>AST</td>\n      <td>Current asthma among adults</td>\n      <td>%</td>\n      <td>Crude Prevalence</td>\n      <td>10.3</td>\n      <td>10.3</td>\n      <td>9.1</td>\n      <td>11.7</td>\n      <td>Age</td>\n      <td>Age 18-44</td>\n    </tr>\n    <tr>\n      <th>5</th>\n      <td>2019</td>\n      <td>2019</td>\n      <td>IA</td>\n      <td>Iowa</td>\n      <td>NVSS</td>\n      <td>Diabetes</td>\n      <td>DIA</td>\n      <td>Diabetes mortality among all people, underlyin...</td>\n      <td>Number</td>\n      <td>Number</td>\n      <td>54.0</td>\n      <td>54.0</td>\n      <td>NaN</td>\n      <td>NaN</td>\n      <td>Age</td>\n      <td>Age 0-44</td>\n    </tr>\n    <tr>\n      <th>...</th>\n      <td>...</td>\n      <td>...</td>\n      <td>...</td>\n      <td>...</td>\n      <td>...</td>\n      <td>...</td>\n      <td>...</td>\n      <td>...</td>\n      <td>...</td>\n      <td>...</td>\n      <td>...</td>\n      <td>...</td>\n      <td>...</td>\n      <td>...</td>\n      <td>...</td>\n      <td>...</td>\n    </tr>\n    <tr>\n      <th>309208</th>\n      <td>2022</td>\n      <td>2022</td>\n      <td>VT</td>\n      <td>Vermont</td>\n      <td>BRFSS</td>\n      <td>Sleep</td>\n      <td>SLEP</td>\n      <td>Short sleep duration among adults</td>\n      <td>%</td>\n      <td>Crude Prevalence</td>\n      <td>26.5</td>\n      <td>26.5</td>\n      <td>16.8</td>\n      <td>39.3</td>\n      <td>Race/Ethnicity</td>\n      <td>Asian, non-Hispanic</td>\n    </tr>\n    <tr>\n      <th>309209</th>\n      <td>2022</td>\n      <td>2022</td>\n      <td>VI</td>\n      <td>Virgin Islands</td>\n      <td>BRFSS</td>\n      <td>Immunization</td>\n      <td>IMM</td>\n      <td>Influenza vaccination among adults</td>\n      <td>%</td>\n      <td>Crude Prevalence</td>\n      <td>34.2</td>\n      <td>34.2</td>\n      <td>24.2</td>\n      <td>45.8</td>\n      <td>Age</td>\n      <td>Age &gt;=65</td>\n    </tr>\n    <tr>\n      <th>309211</th>\n      <td>2022</td>\n      <td>2022</td>\n      <td>WV</td>\n      <td>West Virginia</td>\n      <td>BRFSS</td>\n      <td>Chronic Obstructive Pulmonary Disease</td>\n      <td>COPD</td>\n      <td>Chronic obstructive pulmonary disease among ad...</td>\n      <td>%</td>\n      <td>Crude Prevalence</td>\n      <td>14.0</td>\n      <td>14.0</td>\n      <td>12.8</td>\n      <td>15.2</td>\n      <td>Overall</td>\n      <td>Overall</td>\n    </tr>\n    <tr>\n      <th>309212</th>\n      <td>2022</td>\n      <td>2022</td>\n      <td>WI</td>\n      <td>Wisconsin</td>\n      <td>BRFSS</td>\n      <td>Immunization</td>\n      <td>IMM</td>\n      <td>Pneumococcal vaccination among adults aged 65 ...</td>\n      <td>%</td>\n      <td>Crude Prevalence</td>\n      <td>64.2</td>\n      <td>64.2</td>\n      <td>52.2</td>\n      <td>74.6</td>\n      <td>Race/Ethnicity</td>\n      <td>Black, non-Hispanic</td>\n    </tr>\n    <tr>\n      <th>309214</th>\n      <td>2022</td>\n      <td>2022</td>\n      <td>WA</td>\n      <td>Washington</td>\n      <td>BRFSS</td>\n      <td>Alcohol</td>\n      <td>ALC</td>\n      <td>Binge drinking prevalence among adults</td>\n      <td>%</td>\n      <td>Age-adjusted Prevalence</td>\n      <td>19.2</td>\n      <td>19.2</td>\n      <td>18.3</td>\n      <td>20.2</td>\n      <td>Sex</td>\n      <td>Male</td>\n    </tr>\n  </tbody>\n</table>\n<p>202215 rows × 16 columns</p>\n</div>"
     },
     "execution_count": 8,
     "metadata": {},
     "output_type": "execute_result"
    }
   ],
   "execution_count": 8
  },
  {
   "metadata": {},
   "cell_type": "markdown",
   "source": [
    "---\n",
    "\n",
    "## **5. Úpravy (mutate)**\n",
    "\n",
    "Po vyčistení môže nasledovať **úprava údajov**:\n",
    "- Prekódovanie názvov stĺpcov\n",
    "- Výpočet nových stĺpcov\n",
    "- Pivotovanie dát (zmena tvaru tabuľky)\n",
    "- Zoskupovanie dát a agregácia\n",
    "- Normalizácia, škálovanie, transformácia\n",
    "\n",
    "Ako príklad môžeme vytvoriť nový stĺpec, ktorý bude obsahovať rozdiel medzi hornou a dolnou medzou spoľahlivosti, alebo môžeme vytvoriť pivot tabuľku pre lepšiu vizualizáciu.\n",
    "\n",
    "Môžeme použiť:\n",
    "+ `rename(columns={'oldName':'newName'})` – premenovanie stĺpcov.\n",
    "+ `data['Sum'] = data['Col1'] + data['Col2']` – vytvorenie nového stĺpca ako kombinácie iných stĺpcov.\n",
    "+ `data.pivot_table(values='DataValue', index='LocationAbbr', columns='YearStart', aggfunc='mean')` – vytvorí pivotovú tabuľku údajov - [Dokumentácia pivot_table](https://pandas.pydata.org/docs/reference/api/pandas.DataFrame.pivot_table.html)\n",
    "- Ďalšie metódy: `map()`, `apply()`, `transform()`, `groupby()`, `merge()`, atď.\n",
    "\n",
    "**Prečo to robiť**\n",
    "- Vytváranie nových stĺpcov môže pomôcť pri analýze dát.\n",
    "- Pivotovanie dát môže zjednodušiť vizualizáciu alebo analýzu.\n",
    "- Prekódovanie názvov stĺpcov môže zlepšiť čitateľnosť dát.\n",
    "- Zoskupovanie dát môže zjednodušiť analýzu.\n",
    "- Normalizácia môže pomôcť pri strojovom učení.\n",
    "- Transformácia môže zlepšiť výsledky modelov.\n",
    "\n",
    "\n",
    "**Príklad**"
   ],
   "id": "f2bdf4cc76c9f10a"
  },
  {
   "metadata": {
    "ExecuteTime": {
     "end_time": "2025-03-20T14:10:38.919240200Z",
     "start_time": "2025-03-20T14:10:38.844190200Z"
    }
   },
   "cell_type": "code",
   "source": [
    "# rename the column\n",
    "data_selected = data_selected.rename(columns={'DataValueAlt': 'DataValueNum'})\n",
    "\n",
    "# create new column\n",
    "data_selected['Diff'] = data_selected['HighConfidenceLimit'] - data_selected['LowConfidenceLimit']\n",
    "\n",
    "# pivot table\n",
    "pivot_df = data_selected.pivot_table(\n",
    "    values='DataValueNum',\n",
    "    index='LocationAbbr',\n",
    "    columns='YearStart',\n",
    "    aggfunc='mean'\n",
    ")\n",
    "\n",
    "pivot_df.head()"
   ],
   "id": "d8c660da285b8d2b",
   "outputs": [
    {
     "data": {
      "text/plain": "YearStart            2016       2018         2019         2020         2021  \\\nLocationAbbr                                                                  \nAK             184.313821  51.341463    53.381902    63.025115    60.114995   \nAL            1038.134091  49.397222   373.527853   451.818221   382.585563   \nAR             716.044186  48.507692   256.516405   307.476627   250.692221   \nAZ            1083.466000  48.510811   324.061665   382.306401   323.188238   \nCA            4848.900629  46.315789  1348.755178  1701.187944  1458.497247   \n\nYearStart          2022  \nLocationAbbr             \nAK            24.554213  \nAL            27.067181  \nAR            28.357905  \nAZ            25.433226  \nCA            24.688761  ",
      "text/html": "<div>\n<style scoped>\n    .dataframe tbody tr th:only-of-type {\n        vertical-align: middle;\n    }\n\n    .dataframe tbody tr th {\n        vertical-align: top;\n    }\n\n    .dataframe thead th {\n        text-align: right;\n    }\n</style>\n<table border=\"1\" class=\"dataframe\">\n  <thead>\n    <tr style=\"text-align: right;\">\n      <th>YearStart</th>\n      <th>2016</th>\n      <th>2018</th>\n      <th>2019</th>\n      <th>2020</th>\n      <th>2021</th>\n      <th>2022</th>\n    </tr>\n    <tr>\n      <th>LocationAbbr</th>\n      <th></th>\n      <th></th>\n      <th></th>\n      <th></th>\n      <th></th>\n      <th></th>\n    </tr>\n  </thead>\n  <tbody>\n    <tr>\n      <th>AK</th>\n      <td>184.313821</td>\n      <td>51.341463</td>\n      <td>53.381902</td>\n      <td>63.025115</td>\n      <td>60.114995</td>\n      <td>24.554213</td>\n    </tr>\n    <tr>\n      <th>AL</th>\n      <td>1038.134091</td>\n      <td>49.397222</td>\n      <td>373.527853</td>\n      <td>451.818221</td>\n      <td>382.585563</td>\n      <td>27.067181</td>\n    </tr>\n    <tr>\n      <th>AR</th>\n      <td>716.044186</td>\n      <td>48.507692</td>\n      <td>256.516405</td>\n      <td>307.476627</td>\n      <td>250.692221</td>\n      <td>28.357905</td>\n    </tr>\n    <tr>\n      <th>AZ</th>\n      <td>1083.466000</td>\n      <td>48.510811</td>\n      <td>324.061665</td>\n      <td>382.306401</td>\n      <td>323.188238</td>\n      <td>25.433226</td>\n    </tr>\n    <tr>\n      <th>CA</th>\n      <td>4848.900629</td>\n      <td>46.315789</td>\n      <td>1348.755178</td>\n      <td>1701.187944</td>\n      <td>1458.497247</td>\n      <td>24.688761</td>\n    </tr>\n  </tbody>\n</table>\n</div>"
     },
     "execution_count": 9,
     "metadata": {},
     "output_type": "execute_result"
    }
   ],
   "execution_count": 9
  },
  {
   "metadata": {},
   "cell_type": "markdown",
   "source": [
    "**Úloha:** Premenujte stĺpec `DataValueType` na `ValueType`.\n",
    "\n"
   ],
   "id": "dbf60df6a8c92722"
  },
  {
   "metadata": {
    "ExecuteTime": {
     "end_time": "2025-03-20T14:11:01.707466500Z",
     "start_time": "2025-03-20T14:11:01.673607300Z"
    }
   },
   "cell_type": "code",
   "source": [
    "# TODO\n",
    "data_selected = data_selected.rename(columns={'DataValueType': 'ValueType'})"
   ],
   "id": "cd8d6304d575c64a",
   "outputs": [],
   "execution_count": 10
  },
  {
   "metadata": {},
   "cell_type": "markdown",
   "source": [
    "**Úloha:** Vytvorte kontingenčnú (pivotovú) tabuľku pre stĺpce `Topic` (index) a `LocationAbbr` (columns), kde `values` bude priemerná hodnota `DataValueNum`. (Použite parameter observed=False pre potlačenie upozornenia.)\n"
   ],
   "id": "474d2bf63cfd2ee6"
  },
  {
   "metadata": {
    "ExecuteTime": {
     "end_time": "2025-03-20T14:11:04.434361600Z",
     "start_time": "2025-03-20T14:11:04.347551200Z"
    }
   },
   "cell_type": "code",
   "source": [
    "# TODO\n",
    "pivot_df_second = data_selected.pivot_table(\n",
    "    values='DataValueNum',\n",
    "    index='Topic',\n",
    "    columns='LocationAbbr',\n",
    "    aggfunc='mean',\n",
    "    observed=False\n",
    ")\n",
    "\n",
    "pivot_df_second.head()"
   ],
   "id": "bddd7f927e147a50",
   "outputs": [
    {
     "data": {
      "text/plain": "LocationAbbr                    AK          AL          AR          AZ  \\\nTopic                                                                    \nAlcohol                  18.539748   50.280719   32.821481   63.305971   \nArthritis                29.733945   36.171698   36.329778   31.852290   \nAsthma                   10.964516   12.297222   10.564935   15.054962   \nCancer                  150.497661  822.103529  550.075723  792.139524   \nCardiovascular Disease  109.811614  975.733835  643.805611  812.377996   \n\nLocationAbbr                     CA          CO          CT          DC  \\\nTopic                                                                     \nAlcohol                  229.837865   51.920323   27.471080   13.130764   \nArthritis                 30.370000   27.845570   29.812121   29.043684   \nAsthma                    35.098718   12.122330   12.027660   12.526230   \nCancer                  3635.319718  590.673529  559.050000  153.422876   \nCardiovascular Disease  3629.533051  503.246822  566.897780  166.423651   \n\nLocationAbbr                    DE           FL  ...           TX  \\\nTopic                                            ...                \nAlcohol                  15.426057   156.402770  ...   184.816456   \nArthritis                31.781863    34.002857  ...    32.286508   \nAsthma                   10.979310    24.843802  ...    26.731343   \nCancer                  242.988485  2880.541860  ...  2569.866977   \nCardiovascular Disease  241.330051  3808.722828  ...  2931.867448   \n\nLocationAbbr                      US          UT           VA         VI  \\\nTopic                                                                      \nAlcohol                  1392.710680   20.759867    49.254448   8.287037   \nArthritis                  30.927907   28.205742    32.354400  34.970000   \nAsthma                    278.885890   11.164474    14.881679   7.906667   \nCancer                  34446.859292  351.572561   991.883902  54.042857   \nCardiovascular Disease  39702.117688  281.733348  1114.461388  44.394828   \n\nLocationAbbr                    VT          WA          WI          WV  \\\nTopic                                                                    \nAlcohol                  15.372305   55.735919   47.186117   29.951529   \nArthritis                29.464324   30.237895   32.569417   35.488718   \nAsthma                   14.270588   14.888722   16.017857   14.826786   \nCancer                  220.728788  819.475000  726.081921  498.247857   \nCardiovascular Disease  211.879530  726.976415  849.743249  543.924916   \n\nLocationAbbr                    WY  \nTopic                               \nAlcohol                  23.641121  \nArthritis                27.497238  \nAsthma                   11.147059  \nCancer                  165.845070  \nCardiovascular Disease  154.285402  \n\n[5 rows x 55 columns]",
      "text/html": "<div>\n<style scoped>\n    .dataframe tbody tr th:only-of-type {\n        vertical-align: middle;\n    }\n\n    .dataframe tbody tr th {\n        vertical-align: top;\n    }\n\n    .dataframe thead th {\n        text-align: right;\n    }\n</style>\n<table border=\"1\" class=\"dataframe\">\n  <thead>\n    <tr style=\"text-align: right;\">\n      <th>LocationAbbr</th>\n      <th>AK</th>\n      <th>AL</th>\n      <th>AR</th>\n      <th>AZ</th>\n      <th>CA</th>\n      <th>CO</th>\n      <th>CT</th>\n      <th>DC</th>\n      <th>DE</th>\n      <th>FL</th>\n      <th>...</th>\n      <th>TX</th>\n      <th>US</th>\n      <th>UT</th>\n      <th>VA</th>\n      <th>VI</th>\n      <th>VT</th>\n      <th>WA</th>\n      <th>WI</th>\n      <th>WV</th>\n      <th>WY</th>\n    </tr>\n    <tr>\n      <th>Topic</th>\n      <th></th>\n      <th></th>\n      <th></th>\n      <th></th>\n      <th></th>\n      <th></th>\n      <th></th>\n      <th></th>\n      <th></th>\n      <th></th>\n      <th></th>\n      <th></th>\n      <th></th>\n      <th></th>\n      <th></th>\n      <th></th>\n      <th></th>\n      <th></th>\n      <th></th>\n      <th></th>\n      <th></th>\n    </tr>\n  </thead>\n  <tbody>\n    <tr>\n      <th>Alcohol</th>\n      <td>18.539748</td>\n      <td>50.280719</td>\n      <td>32.821481</td>\n      <td>63.305971</td>\n      <td>229.837865</td>\n      <td>51.920323</td>\n      <td>27.471080</td>\n      <td>13.130764</td>\n      <td>15.426057</td>\n      <td>156.402770</td>\n      <td>...</td>\n      <td>184.816456</td>\n      <td>1392.710680</td>\n      <td>20.759867</td>\n      <td>49.254448</td>\n      <td>8.287037</td>\n      <td>15.372305</td>\n      <td>55.735919</td>\n      <td>47.186117</td>\n      <td>29.951529</td>\n      <td>23.641121</td>\n    </tr>\n    <tr>\n      <th>Arthritis</th>\n      <td>29.733945</td>\n      <td>36.171698</td>\n      <td>36.329778</td>\n      <td>31.852290</td>\n      <td>30.370000</td>\n      <td>27.845570</td>\n      <td>29.812121</td>\n      <td>29.043684</td>\n      <td>31.781863</td>\n      <td>34.002857</td>\n      <td>...</td>\n      <td>32.286508</td>\n      <td>30.927907</td>\n      <td>28.205742</td>\n      <td>32.354400</td>\n      <td>34.970000</td>\n      <td>29.464324</td>\n      <td>30.237895</td>\n      <td>32.569417</td>\n      <td>35.488718</td>\n      <td>27.497238</td>\n    </tr>\n    <tr>\n      <th>Asthma</th>\n      <td>10.964516</td>\n      <td>12.297222</td>\n      <td>10.564935</td>\n      <td>15.054962</td>\n      <td>35.098718</td>\n      <td>12.122330</td>\n      <td>12.027660</td>\n      <td>12.526230</td>\n      <td>10.979310</td>\n      <td>24.843802</td>\n      <td>...</td>\n      <td>26.731343</td>\n      <td>278.885890</td>\n      <td>11.164474</td>\n      <td>14.881679</td>\n      <td>7.906667</td>\n      <td>14.270588</td>\n      <td>14.888722</td>\n      <td>16.017857</td>\n      <td>14.826786</td>\n      <td>11.147059</td>\n    </tr>\n    <tr>\n      <th>Cancer</th>\n      <td>150.497661</td>\n      <td>822.103529</td>\n      <td>550.075723</td>\n      <td>792.139524</td>\n      <td>3635.319718</td>\n      <td>590.673529</td>\n      <td>559.050000</td>\n      <td>153.422876</td>\n      <td>242.988485</td>\n      <td>2880.541860</td>\n      <td>...</td>\n      <td>2569.866977</td>\n      <td>34446.859292</td>\n      <td>351.572561</td>\n      <td>991.883902</td>\n      <td>54.042857</td>\n      <td>220.728788</td>\n      <td>819.475000</td>\n      <td>726.081921</td>\n      <td>498.247857</td>\n      <td>165.845070</td>\n    </tr>\n    <tr>\n      <th>Cardiovascular Disease</th>\n      <td>109.811614</td>\n      <td>975.733835</td>\n      <td>643.805611</td>\n      <td>812.377996</td>\n      <td>3629.533051</td>\n      <td>503.246822</td>\n      <td>566.897780</td>\n      <td>166.423651</td>\n      <td>241.330051</td>\n      <td>3808.722828</td>\n      <td>...</td>\n      <td>2931.867448</td>\n      <td>39702.117688</td>\n      <td>281.733348</td>\n      <td>1114.461388</td>\n      <td>44.394828</td>\n      <td>211.879530</td>\n      <td>726.976415</td>\n      <td>849.743249</td>\n      <td>543.924916</td>\n      <td>154.285402</td>\n    </tr>\n  </tbody>\n</table>\n<p>5 rows × 55 columns</p>\n</div>"
     },
     "execution_count": 11,
     "metadata": {},
     "output_type": "execute_result"
    }
   ],
   "execution_count": 11
  },
  {
   "metadata": {},
   "cell_type": "markdown",
   "source": [
    "**Úloha:** Vytvorte nový stĺpec `Range` ako rozdiel `HighConfidenceLimit - LowConfidenceLimit`."
   ],
   "id": "bad7b8cbcb57cfb4"
  },
  {
   "metadata": {
    "ExecuteTime": {
     "end_time": "2025-03-20T14:11:12.751412900Z",
     "start_time": "2025-03-20T14:11:12.710496800Z"
    }
   },
   "cell_type": "code",
   "source": [
    "# TODO\n",
    "data_selected['Range'] = data_selected['HighConfidenceLimit'] - data_selected['LowConfidenceLimit']"
   ],
   "id": "dd4ef338db6a19d6",
   "outputs": [],
   "execution_count": 12
  },
  {
   "metadata": {},
   "cell_type": "markdown",
   "source": [
    "**Úloha:** Vytvorte stĺpec `HighVal`, ktorý binárne označí, či je daný záznam „vysoký“ alebo „nízky“. Ako podmienku pre odlíšenie záznamov použite stĺpec `DataValueNum`, pričom hraničná hodnota bude väčšia ako 50. Metóda astype() vytvorí z bool hodnôt 0 a 1 - [Dokumentácia astype](https://pandas.pydata.org/docs/reference/api/pandas.Series.astype.html).\n",
    "\n",
    " Hint: Použite `(data_clean[\"DataValueNum\"] > 50).astype(int)`.\n"
   ],
   "id": "74853d520660be2c"
  },
  {
   "metadata": {
    "ExecuteTime": {
     "end_time": "2025-03-20T14:11:16.240744Z",
     "start_time": "2025-03-20T14:11:16.203372200Z"
    }
   },
   "cell_type": "code",
   "source": [
    "# TODO\n",
    "data_selected['HighVal'] = (data_selected[\"DataValueNum\"] > 50).astype(int)"
   ],
   "id": "b94b742a746c15c8",
   "outputs": [],
   "execution_count": 13
  },
  {
   "metadata": {},
   "cell_type": "markdown",
   "source": [
    "---\n",
    "\n",
    "## **6. Popis (describe)**\n",
    "\n",
    "Popis dát slúži na to, aby sme získali **základný prehľad o rozdelení hodnôt** v datasetoch.\n",
    "\n",
    "Môžeme použiť:\n",
    "- `describe()` – poskytne súhrnnú štatistiku (mean, std, min, max, quartiles).\n",
    "- `groupby()` – umožní zoskupiť dáta podľa určitej kategórie a potom vykonať agregácie (napr. min, max, mean, median, count, atď.) - [Dokumentácia groupby](https://pandas.pydata.org/docs/reference/api/pandas.DataFrame.groupby.html).\n",
    "- `plot(kind='xxx')` – umožní vizualizovať distribúciu hodnôt (napr. histogram, boxplot, atď.).\n",
    "- `corr()` – vypočíta korelácie medzi numerickými stĺpcami - [Dokumentácia corr](https://pandas.pydata.org/docs/reference/api/pandas.DataFrame.corr.html)\n",
    "- `ttest_ind()` – vykoná t-test na overenie hypotéz - [Dokumentácia ttest_ind](https://docs.scipy.org/docs/scipy/reference/generated/scipy.stats.ttest_ind.html)\n",
    "- `zscore()` – vypočíta z-score pre detekciu outlierov - [Dokumentácia zscore](https://docs.scipy.org/docs/scipy/reference/generated/scipy.stats.zscore.html)\n",
    "- `agg()` – umožní aplikovať viacero agregácií naraz - [Dokumentácia agg](https://pandas.pydata.org/docs/reference/api/pandas.DataFrame.agg.html)\n",
    "- Ďalšie metódy: `mean()`, `median()`, `std()`, `count()`, `min()`, `max()`, atď.\n",
    "\n",
    "**Prečo to robiť:**\n",
    "- Zistíme, či v datasetoch nemáme extrémne hodnoty (outliers) alebo nekonzistentné dáta.\n",
    "- Porovnáme priemer vs. medián (ak je medzi nimi veľký rozdiel, môžeme mať 'skewed' distribúciu údajov).\n",
    "- Zistíme, či sú dáta normálne distribuované.\n",
    "\n",
    "**Príklad**"
   ],
   "id": "35bc0454b98bec73"
  },
  {
   "metadata": {
    "ExecuteTime": {
     "end_time": "2025-03-20T14:11:22.066634900Z",
     "start_time": "2025-03-20T14:11:21.998868800Z"
    }
   },
   "cell_type": "code",
   "source": [
    "# Groupby + aggregation\n",
    "data_summary = data_selected.groupby('LocationAbbr', observed=False).agg(\n",
    "    MinValue=('DataValueNum', 'min'),\n",
    "    MaxValue=('DataValueNum', 'max'),\n",
    "    MeanVal=('DataValueNum', 'mean'),\n",
    "    StdVal=('DataValueNum', 'std'),\n",
    "    CountVal=('DataValueNum', 'count')\n",
    ")\n",
    "data_summary.head()"
   ],
   "id": "f218a2ad86116e47",
   "outputs": [
    {
     "data": {
      "text/plain": "              MinValue  MaxValue      MeanVal       StdVal  CountVal\nLocationAbbr                                                        \nAK                 0.0    3180.0    56.777583   163.346717      3571\nAL                 0.0   57830.0   365.767951  2482.880022      3650\nAR                 0.0   34577.0   249.213576  1566.815654      3722\nAZ                 0.0   50228.0   318.621624  2224.388112      4329\nCA                 0.0  221537.0  1360.462171  9493.267494      4261",
      "text/html": "<div>\n<style scoped>\n    .dataframe tbody tr th:only-of-type {\n        vertical-align: middle;\n    }\n\n    .dataframe tbody tr th {\n        vertical-align: top;\n    }\n\n    .dataframe thead th {\n        text-align: right;\n    }\n</style>\n<table border=\"1\" class=\"dataframe\">\n  <thead>\n    <tr style=\"text-align: right;\">\n      <th></th>\n      <th>MinValue</th>\n      <th>MaxValue</th>\n      <th>MeanVal</th>\n      <th>StdVal</th>\n      <th>CountVal</th>\n    </tr>\n    <tr>\n      <th>LocationAbbr</th>\n      <th></th>\n      <th></th>\n      <th></th>\n      <th></th>\n      <th></th>\n    </tr>\n  </thead>\n  <tbody>\n    <tr>\n      <th>AK</th>\n      <td>0.0</td>\n      <td>3180.0</td>\n      <td>56.777583</td>\n      <td>163.346717</td>\n      <td>3571</td>\n    </tr>\n    <tr>\n      <th>AL</th>\n      <td>0.0</td>\n      <td>57830.0</td>\n      <td>365.767951</td>\n      <td>2482.880022</td>\n      <td>3650</td>\n    </tr>\n    <tr>\n      <th>AR</th>\n      <td>0.0</td>\n      <td>34577.0</td>\n      <td>249.213576</td>\n      <td>1566.815654</td>\n      <td>3722</td>\n    </tr>\n    <tr>\n      <th>AZ</th>\n      <td>0.0</td>\n      <td>50228.0</td>\n      <td>318.621624</td>\n      <td>2224.388112</td>\n      <td>4329</td>\n    </tr>\n    <tr>\n      <th>CA</th>\n      <td>0.0</td>\n      <td>221537.0</td>\n      <td>1360.462171</td>\n      <td>9493.267494</td>\n      <td>4261</td>\n    </tr>\n  </tbody>\n</table>\n</div>"
     },
     "execution_count": 14,
     "metadata": {},
     "output_type": "execute_result"
    }
   ],
   "execution_count": 14
  },
  {
   "metadata": {},
   "cell_type": "markdown",
   "source": [
    "**Úloha:** Vytvorte `groupby` pre stĺpec `Topic` a vypočítajte priemer a medián pre stĺpec `DataValueNum`. Výsledok uložte do premennej `topic_stats`. Ďalej vypíšte aj počet hodnôt (count) pre každý `Topic`.\n"
   ],
   "id": "190e78b9d0e7bf9d"
  },
  {
   "metadata": {
    "ExecuteTime": {
     "end_time": "2025-03-20T14:11:27.997888100Z",
     "start_time": "2025-03-20T14:11:27.939453200Z"
    }
   },
   "cell_type": "code",
   "source": [
    "# TODO\n",
    "topic_stats = data_selected.groupby('Topic', observed=False).agg(\n",
    "    MinValue=('DataValueNum', 'min'),\n",
    "    MaxValue=('DataValueNum', 'max'),\n",
    "    MeanVal=('DataValueNum', 'mean'),\n",
    "    StdVal=('DataValueNum', 'std'),\n",
    "    CountVal=('DataValueNum', 'count')\n",
    ")\n",
    "topic_stats.head()"
   ],
   "id": "39379301f4d08ade",
   "outputs": [
    {
     "data": {
      "text/plain": "                        MinValue   MaxValue      MeanVal        StdVal  \\\nTopic                                                                    \nAlcohol                      0.0    56585.0    84.916572   1108.874775   \nArthritis                    0.0       92.3    31.859992     18.494868   \nAsthma                       0.0     4145.0    23.527662    135.405133   \nCancer                       0.9  1754343.0  2057.055715  35364.854757   \nCardiovascular Disease       0.6   805708.0  1860.673527  19614.445182   \n\n                        CountVal  \nTopic                             \nAlcohol                    16398  \nArthritis                  11960  \nAsthma                      5231  \nCancer                      9518  \nCardiovascular Disease     23393  ",
      "text/html": "<div>\n<style scoped>\n    .dataframe tbody tr th:only-of-type {\n        vertical-align: middle;\n    }\n\n    .dataframe tbody tr th {\n        vertical-align: top;\n    }\n\n    .dataframe thead th {\n        text-align: right;\n    }\n</style>\n<table border=\"1\" class=\"dataframe\">\n  <thead>\n    <tr style=\"text-align: right;\">\n      <th></th>\n      <th>MinValue</th>\n      <th>MaxValue</th>\n      <th>MeanVal</th>\n      <th>StdVal</th>\n      <th>CountVal</th>\n    </tr>\n    <tr>\n      <th>Topic</th>\n      <th></th>\n      <th></th>\n      <th></th>\n      <th></th>\n      <th></th>\n    </tr>\n  </thead>\n  <tbody>\n    <tr>\n      <th>Alcohol</th>\n      <td>0.0</td>\n      <td>56585.0</td>\n      <td>84.916572</td>\n      <td>1108.874775</td>\n      <td>16398</td>\n    </tr>\n    <tr>\n      <th>Arthritis</th>\n      <td>0.0</td>\n      <td>92.3</td>\n      <td>31.859992</td>\n      <td>18.494868</td>\n      <td>11960</td>\n    </tr>\n    <tr>\n      <th>Asthma</th>\n      <td>0.0</td>\n      <td>4145.0</td>\n      <td>23.527662</td>\n      <td>135.405133</td>\n      <td>5231</td>\n    </tr>\n    <tr>\n      <th>Cancer</th>\n      <td>0.9</td>\n      <td>1754343.0</td>\n      <td>2057.055715</td>\n      <td>35364.854757</td>\n      <td>9518</td>\n    </tr>\n    <tr>\n      <th>Cardiovascular Disease</th>\n      <td>0.6</td>\n      <td>805708.0</td>\n      <td>1860.673527</td>\n      <td>19614.445182</td>\n      <td>23393</td>\n    </tr>\n  </tbody>\n</table>\n</div>"
     },
     "execution_count": 15,
     "metadata": {},
     "output_type": "execute_result"
    }
   ],
   "execution_count": 15
  },
  {
   "metadata": {},
   "cell_type": "markdown",
   "source": [
    "**Úloha:** Urobte to isté pre `LocationAbbr`, ale pridajte aj min/max."
   ],
   "id": "9053a6e6c62adf73"
  },
  {
   "metadata": {},
   "cell_type": "code",
   "source": [
    "# TODO"
   ],
   "id": "4e42d42670c499ce",
   "outputs": [],
   "execution_count": null
  },
  {
   "metadata": {},
   "cell_type": "markdown",
   "source": [
    "---\n",
    "\n",
    "## **7. Vizualizácia (visualize)**\n",
    "\n",
    "Vizualizácia je **kľúčová** na odhalenie vzťahov alebo extrémnych hodnôt, ktoré by sme inak prehliadli. Pomocou grafov môžeme zobraziť distribúciu hodnôt, korelácie, zhlukovanie alebo vzory v dátach.\n",
    "\n",
    "Môžeme použiť:\n",
    "- Knižnicu **matplotlib**, ktorá umožňuje pomocou metódy `plot` vytvárať rôzne grafy - [Dokumentácia matplotlib](https://matplotlib.org/stable/api/_as_gen/matplotlib.pyplot.html).\n",
    "- Často sa používa aj **pandas** `.plot(kind='xxx')`, kde `xxx` je `line`, `bar`, `hist`, `box` atď.\n",
    "- Prípadne môžeme použiť **seaborn** na pokročilejšiu vizualizáciu (kategórie s farebným rozlíšením, hustotné grafy, atď.).\n",
    "\n",
    "Môžeme použiť: (knižnica **Pandas**)\n",
    "- `plot(kind='xxx')` – zobrazí daný typ grafu (line, bar, hist, box, scatter, pie, atď.) - [Dokumentácia plot](https://pandas.pydata.org/docs/reference/api/pandas.DataFrame.plot.html)\n",
    "- `plot.bar()` – stĺpcový graf - [Dokumentácia bar](https://pandas.pydata.org/docs/reference/api/pandas.DataFrame.plot.bar.html)\n",
    "- `plot.hist()` – histogram - [Dokumentácia hist](https://pandas.pydata.org/docs/reference/api/pandas.DataFrame.plot.hist.html)\n",
    "- `plot.box()` – boxplot - [Dokumentácia box](https://pandas.pydata.org/docs/reference/api/pandas.DataFrame.plot.box.html)\n",
    "- `plot.scatter()` – scatterplot - [Dokumentácia scatter](https://pandas.pydata.org/docs/reference/api/pandas.DataFrame.plot.scatter.html)\n",
    "- `plot.pie()` – koláčový graf - [Dokumentácia pie](https://pandas.pydata.org/docs/reference/api/pandas.DataFrame.plot.pie.html)\n",
    "- Ďalšie metódy: `plot.line()`, `plot.area()`, `plot.barh()`, `plot.kde()`, `plot.hexbin()`, atď.\n",
    "- **Seaborn**: `sns.barplot()`, `sns.boxplot()`, `sns.heatmap()`, `sns.scatterplot()`, `sns.pairplot()`, atď.\n",
    "- **Matplotlib**: `plt.plot()`, `plt.bar()`, `plt.hist()`, `plt.boxplot()`, `plt.scatter()`, `plt.pie()`, atď.s\n",
    "\n",
    "**Prečo to robiť**\n",
    "- Vizualizácia pomáha odhaliť vzory, korelácie alebo extrémne hodnoty.\n",
    "- Pomáha pri interpretácii dát a komunikácii výsledkov.\n",
    "- Môžeme použiť aj interaktívne vizualizačné nástroje ako **plotly** alebo **bokeh**.\n",
    "- Vizualizácia je dôležitá aj pri tvorbe prezentácií alebo reportov.\n",
    "- Môžeme použiť aj **tableau** alebo **powerBI** na vizualizáciu.\n",
    "\n",
    "**Príklad** - Ktoré témy (Topic) majú najvyššie priemerné hodnoty?\n",
    "\n",
    "Hint: Potrebujeme zistiť priemernú hodnotu `DataValueNum` pre každý `Topic`. Výsledky je potrebné zoradiť zostupne a vizualizovať niekoľko (napr. 10) prvých tém s najvyššou priemernou hodnotou v grafe (napr. stĺpcový graf)."
   ],
   "id": "a176ef75cf843c36"
  },
  {
   "metadata": {
    "ExecuteTime": {
     "end_time": "2025-03-20T14:14:05.009368200Z",
     "start_time": "2025-03-20T14:14:04.886228800Z"
    }
   },
   "cell_type": "code",
   "source": [
    "import matplotlib.pyplot as plt\n",
    "\n",
    "# calculate the mean 'DataValueNum' for each 'Topic'\n",
    "topic_means = data_selected.groupby('Topic', observed=False)['DataValueNum'].mean().reset_index() # reset_index() to convert the result to a DataFrame\n",
    "\n",
    "# sort the topics by the mean 'DataValueNum' in descending order\n",
    "topic_means_sorted = topic_means.sort_values(by='DataValueNum', ascending=False)\n",
    "\n",
    "# select the top 10 topics\n",
    "top10 = topic_means_sorted.head(10)\n",
    "\n",
    "# plot the bar chart\n",
    "top10.plot(kind='bar', x='Topic', y='DataValueNum')\n",
    "plt.title('Prvých 10 tém podľa najvyššej priemernej hodnoty (DataValueNum)')\n",
    "plt.xlabel('Topic')\n",
    "plt.ylabel('Priemer DataValueNum')\n",
    "plt.show()"
   ],
   "id": "6bc69cba658b0382",
   "outputs": [
    {
     "ename": "ValueError",
     "evalue": "Key backend: 'module://matplotlib_inline.backend_inline' is not a valid value for backend; supported values are ['gtk3agg', 'gtk3cairo', 'gtk4agg', 'gtk4cairo', 'macosx', 'nbagg', 'notebook', 'qtagg', 'qtcairo', 'qt5agg', 'qt5cairo', 'tkagg', 'tkcairo', 'webagg', 'wx', 'wxagg', 'wxcairo', 'agg', 'cairo', 'pdf', 'pgf', 'ps', 'svg', 'template']",
     "output_type": "error",
     "traceback": [
      "\u001B[31m---------------------------------------------------------------------------\u001B[39m",
      "\u001B[31mValueError\u001B[39m                                Traceback (most recent call last)",
      "\u001B[36mCell\u001B[39m\u001B[36m \u001B[39m\u001B[32mIn[18]\u001B[39m\u001B[32m, line 1\u001B[39m\n\u001B[32m----> \u001B[39m\u001B[32m1\u001B[39m \u001B[38;5;28;01mimport\u001B[39;00m\u001B[38;5;250m \u001B[39m\u001B[34;01mmatplotlib\u001B[39;00m\u001B[34;01m.\u001B[39;00m\u001B[34;01mpyplot\u001B[39;00m\u001B[38;5;250m \u001B[39m\u001B[38;5;28;01mas\u001B[39;00m\u001B[38;5;250m \u001B[39m\u001B[34;01mplt\u001B[39;00m\n\u001B[32m      3\u001B[39m \u001B[38;5;66;03m# calculate the mean 'DataValueNum' for each 'Topic'\u001B[39;00m\n\u001B[32m      4\u001B[39m topic_means = data_selected.groupby(\u001B[33m'\u001B[39m\u001B[33mTopic\u001B[39m\u001B[33m'\u001B[39m, observed=\u001B[38;5;28;01mFalse\u001B[39;00m)[\u001B[33m'\u001B[39m\u001B[33mDataValueNum\u001B[39m\u001B[33m'\u001B[39m].mean().reset_index() \u001B[38;5;66;03m# reset_index() to convert the result to a DataFrame\u001B[39;00m\n",
      "\u001B[36mFile \u001B[39m\u001B[32m~\\AppData\\Roaming\\Python\\Python313\\site-packages\\matplotlib\\__init__.py:1296\u001B[39m\n\u001B[32m   1292\u001B[39m     rcParams[\u001B[33m'\u001B[39m\u001B[33mbackend_fallback\u001B[39m\u001B[33m'\u001B[39m] = \u001B[38;5;28;01mFalse\u001B[39;00m\n\u001B[32m   1295\u001B[39m \u001B[38;5;28;01mif\u001B[39;00m os.environ.get(\u001B[33m'\u001B[39m\u001B[33mMPLBACKEND\u001B[39m\u001B[33m'\u001B[39m):\n\u001B[32m-> \u001B[39m\u001B[32m1296\u001B[39m     \u001B[43mrcParams\u001B[49m\u001B[43m[\u001B[49m\u001B[33;43m'\u001B[39;49m\u001B[33;43mbackend\u001B[39;49m\u001B[33;43m'\u001B[39;49m\u001B[43m]\u001B[49m = os.environ.get(\u001B[33m'\u001B[39m\u001B[33mMPLBACKEND\u001B[39m\u001B[33m'\u001B[39m)\n\u001B[32m   1299\u001B[39m \u001B[38;5;28;01mdef\u001B[39;00m\u001B[38;5;250m \u001B[39m\u001B[34mget_backend\u001B[39m(*, auto_select=\u001B[38;5;28;01mTrue\u001B[39;00m):\n\u001B[32m   1300\u001B[39m \u001B[38;5;250m    \u001B[39m\u001B[33;03m\"\"\"\u001B[39;00m\n\u001B[32m   1301\u001B[39m \u001B[33;03m    Return the name of the current backend.\u001B[39;00m\n\u001B[32m   1302\u001B[39m \n\u001B[32m   (...)\u001B[39m\u001B[32m   1320\u001B[39m \u001B[33;03m    matplotlib.use\u001B[39;00m\n\u001B[32m   1321\u001B[39m \u001B[33;03m    \"\"\"\u001B[39;00m\n",
      "\u001B[36mFile \u001B[39m\u001B[32m~\\AppData\\Roaming\\Python\\Python313\\site-packages\\matplotlib\\__init__.py:771\u001B[39m, in \u001B[36mRcParams.__setitem__\u001B[39m\u001B[34m(self, key, val)\u001B[39m\n\u001B[32m    769\u001B[39m         cval = \u001B[38;5;28mself\u001B[39m.validate[key](val)\n\u001B[32m    770\u001B[39m     \u001B[38;5;28;01mexcept\u001B[39;00m \u001B[38;5;167;01mValueError\u001B[39;00m \u001B[38;5;28;01mas\u001B[39;00m ve:\n\u001B[32m--> \u001B[39m\u001B[32m771\u001B[39m         \u001B[38;5;28;01mraise\u001B[39;00m \u001B[38;5;167;01mValueError\u001B[39;00m(\u001B[33mf\u001B[39m\u001B[33m\"\u001B[39m\u001B[33mKey \u001B[39m\u001B[38;5;132;01m{\u001B[39;00mkey\u001B[38;5;132;01m}\u001B[39;00m\u001B[33m: \u001B[39m\u001B[38;5;132;01m{\u001B[39;00mve\u001B[38;5;132;01m}\u001B[39;00m\u001B[33m\"\u001B[39m) \u001B[38;5;28;01mfrom\u001B[39;00m\u001B[38;5;250m \u001B[39m\u001B[38;5;28;01mNone\u001B[39;00m\n\u001B[32m    772\u001B[39m     \u001B[38;5;28mself\u001B[39m._set(key, cval)\n\u001B[32m    773\u001B[39m \u001B[38;5;28;01mexcept\u001B[39;00m \u001B[38;5;167;01mKeyError\u001B[39;00m \u001B[38;5;28;01mas\u001B[39;00m err:\n",
      "\u001B[31mValueError\u001B[39m: Key backend: 'module://matplotlib_inline.backend_inline' is not a valid value for backend; supported values are ['gtk3agg', 'gtk3cairo', 'gtk4agg', 'gtk4cairo', 'macosx', 'nbagg', 'notebook', 'qtagg', 'qtcairo', 'qt5agg', 'qt5cairo', 'tkagg', 'tkcairo', 'webagg', 'wx', 'wxagg', 'wxcairo', 'agg', 'cairo', 'pdf', 'pgf', 'ps', 'svg', 'template']"
     ]
    }
   ],
   "execution_count": 18
  },
  {
   "metadata": {},
   "cell_type": "markdown",
   "source": [
    "**Interpretácia:** Dokážeme rýchlo identifikovať, ktoré oblasti (kardiovaskulárne ochorenia, cukrovka, chronické ochorenia, atď.) vykazujú v datasete najvyššie číselné hodnoty. Napríklad, keď je `DataValueNum` prevalencia, ukáže sa, pri ktorých ochoreniach je na úrovni datasetu priemerná prevalencia najvyššia. (Pre dôkladnejšiu analýzu by sme mali zvážiť aj iné faktory, ako napr. počet záznamov, rozsah hodnôt, atď.)\n",
    "\n",
    "---\n",
    "\n",
    "**Úloha:** Porovnajte priemery `DataValueNum` naprieč jednotlivými štátmi. Analýzu urobte pre konkrétny Topic (napr. Diabetes).\n",
    "\n",
    "Hint: Vyfiltrujte hodnoty pre vybraný Topic. Zistite priemernú hodnotu DataValueNum pre každý štát (LocationAbbr).\n",
    "Zoradené výsledky vypíšte a vytvorte stĺpcový graf pre Top 5 aj Bottom 5 lokalít."
   ],
   "id": "29c09f883a05771a"
  },
  {
   "metadata": {
    "ExecuteTime": {
     "end_time": "2025-03-20T07:28:41.996445600Z",
     "start_time": "2025-03-20T07:28:41.699198Z"
    }
   },
   "cell_type": "code",
   "source": [
    "selected_topic = 'Diabetes'\n",
    "\n",
    "# filter the data for the selected topic\n",
    "# TODO\n",
    "data_selected = data_selected[data_selected['Topic'] == selected_topic]\n",
    "\n",
    "# calculate the mean 'DataValueNum' for each 'LocationAbbr' (use reset_index() to convert the result to a DataFrame)\n",
    "# TODO\n",
    "data_selected = data_selected.groupby('LocationAbbr', observed=False)['DataValueNum'].mean().reset_index()\n",
    "\n",
    "# sort the states by the mean 'DataValueNum' in descending order\n",
    "# TODO\n",
    "data_selected = data_selected.sort_values(by='DataValueNum', ascending=False)\n",
    "\n",
    "# select the top 5 and bottom 5 states\n",
    "top5 = data_selected.head()\n",
    "bottom5 = data_selected.tail()\n",
    "\n",
    "# plot the bar chart for the top 5 states\n",
    "top5.plot(kind='bar', x='LocationAbbr', y='DataValueNum')\n",
    "plt.title('Top 5 statov pre topic: Diabetes')\n",
    "plt.xlabel('LocationAbbr')\n",
    "plt.ylabel('Priemer DataValueNum')\n",
    "plt.show()\n",
    "\n",
    "# plot the bar chart for the bottom 5 states\n",
    "# TODO"
   ],
   "id": "43ad2c3113338305",
   "outputs": [
    {
     "data": {
      "text/plain": "<Figure size 640x480 with 1 Axes>",
      "image/png": "[encoded data removed]"
     },
     "metadata": {},
     "output_type": "display_data"
    }
   ],
   "execution_count": 42
  },
  {
   "metadata": {},
   "cell_type": "markdown",
   "source": [
    "**Úloha:** Zobrazte trend v čase (time series) pre vybraný štát a tému (zistite, ako sa mení `DataValueNum` v čase. Pre vizualizáciu použite **line plot**. (Použite parameter `marker='o'` pre vizualizáciu dátových bodov v trende) **Keďže údaje v datasete pochádzajú z rôznych prieskumov a boli zbierané naprieč rôznymi skupinami, je potrebné pri filtrovaní vybrať aj konkrétnu skupinu pre `ValueType` (napr. hodnota `Crude Prevalence`) a `StratificationCategory1` (napr. hodnota `Overall`)**\n",
    "\n",
    "Hint:\n",
    "Zvoľte si konkrétny štát (napr. CA), tému (napr. Asthma), typ hodnoty (napr. Crude Prevalence) a kategóriu (napr. Overall).\n",
    "Vyfiltrujte dáta podľa výberu z predošlého kroku, aby zostali len záznamy, ktoré spĺňajú vybrané kritériá.\n",
    "Vytvorte čiarový graf (line plot), kde na osi X je `YearStart` a na osi Y je `DataValueNum`.\n",
    "Interpretujte výsledný trend."
   ],
   "id": "6c526d52f9f410f9"
  },
  {
   "metadata": {
    "ExecuteTime": {
     "end_time": "2025-03-20T07:28:48.467209500Z",
     "start_time": "2025-03-20T07:28:48.305361300Z"
    }
   },
   "cell_type": "code",
   "source": [
    "selected_state = 'CA'\n",
    "selected_topic = 'Asthma'\n",
    "\n",
    "filtered_data = data_selected[\n",
    "    (data_selected['LocationAbbr'] == selected_state) &\n",
    "    (data_selected['Topic'] == selected_topic) &\n",
    "    (data_selected['ValueType'] == 'Crude Prevalence') &\n",
    "    (data_selected['StratificationCategory1'] == 'Overall')]\n",
    "\n",
    "plt.figure(figsize=(8,5))\n",
    "plt.plot(filtered_data['YearStart'], filtered_data['DataValueNum'], marker='o')\n",
    "\n",
    "plt.title(f'Trend {selected_topic} v {selected_state} (v čase)')\n",
    "plt.xlabel('Rok (YearStart)')\n",
    "plt.ylabel('DataValueNum')\n",
    "plt.grid(True)\n",
    "plt.show()"
   ],
   "id": "4327d2b2fa4c181f",
   "outputs": [
    {
     "ename": "KeyError",
     "evalue": "'Topic'",
     "output_type": "error",
     "traceback": [
      "\u001B[31m---------------------------------------------------------------------------\u001B[39m",
      "\u001B[31mKeyError\u001B[39m                                  Traceback (most recent call last)",
      "\u001B[36mFile \u001B[39m\u001B[32mC:\\Python313\\Lib\\site-packages\\pandas\\core\\indexes\\base.py:3805\u001B[39m, in \u001B[36mIndex.get_loc\u001B[39m\u001B[34m(self, key)\u001B[39m\n\u001B[32m   3804\u001B[39m \u001B[38;5;28;01mtry\u001B[39;00m:\n\u001B[32m-> \u001B[39m\u001B[32m3805\u001B[39m     \u001B[38;5;28;01mreturn\u001B[39;00m \u001B[38;5;28;43mself\u001B[39;49m\u001B[43m.\u001B[49m\u001B[43m_engine\u001B[49m\u001B[43m.\u001B[49m\u001B[43mget_loc\u001B[49m\u001B[43m(\u001B[49m\u001B[43mcasted_key\u001B[49m\u001B[43m)\u001B[49m\n\u001B[32m   3806\u001B[39m \u001B[38;5;28;01mexcept\u001B[39;00m \u001B[38;5;167;01mKeyError\u001B[39;00m \u001B[38;5;28;01mas\u001B[39;00m err:\n",
      "\u001B[36mFile \u001B[39m\u001B[32mindex.pyx:167\u001B[39m, in \u001B[36mpandas._libs.index.IndexEngine.get_loc\u001B[39m\u001B[34m()\u001B[39m\n",
      "\u001B[36mFile \u001B[39m\u001B[32mindex.pyx:196\u001B[39m, in \u001B[36mpandas._libs.index.IndexEngine.get_loc\u001B[39m\u001B[34m()\u001B[39m\n",
      "\u001B[36mFile \u001B[39m\u001B[32mpandas\\\\_libs\\\\hashtable_class_helper.pxi:7081\u001B[39m, in \u001B[36mpandas._libs.hashtable.PyObjectHashTable.get_item\u001B[39m\u001B[34m()\u001B[39m\n",
      "\u001B[36mFile \u001B[39m\u001B[32mpandas\\\\_libs\\\\hashtable_class_helper.pxi:7089\u001B[39m, in \u001B[36mpandas._libs.hashtable.PyObjectHashTable.get_item\u001B[39m\u001B[34m()\u001B[39m\n",
      "\u001B[31mKeyError\u001B[39m: 'Topic'",
      "\nThe above exception was the direct cause of the following exception:\n",
      "\u001B[31mKeyError\u001B[39m                                  Traceback (most recent call last)",
      "\u001B[36mCell\u001B[39m\u001B[36m \u001B[39m\u001B[32mIn[43]\u001B[39m\u001B[32m, line 6\u001B[39m\n\u001B[32m      1\u001B[39m selected_state = \u001B[33m'\u001B[39m\u001B[33mCA\u001B[39m\u001B[33m'\u001B[39m\n\u001B[32m      2\u001B[39m selected_topic = \u001B[33m'\u001B[39m\u001B[33mAsthma\u001B[39m\u001B[33m'\u001B[39m\n\u001B[32m      4\u001B[39m filtered_data = data_selected[\n\u001B[32m      5\u001B[39m     (data_selected[\u001B[33m'\u001B[39m\u001B[33mLocationAbbr\u001B[39m\u001B[33m'\u001B[39m] == selected_state) &\n\u001B[32m----> \u001B[39m\u001B[32m6\u001B[39m     (\u001B[43mdata_selected\u001B[49m\u001B[43m[\u001B[49m\u001B[33;43m'\u001B[39;49m\u001B[33;43mTopic\u001B[39;49m\u001B[33;43m'\u001B[39;49m\u001B[43m]\u001B[49m == selected_topic) &\n\u001B[32m      7\u001B[39m     (data_selected[\u001B[33m'\u001B[39m\u001B[33mValueType\u001B[39m\u001B[33m'\u001B[39m] == \u001B[33m'\u001B[39m\u001B[33mCrude Prevalence\u001B[39m\u001B[33m'\u001B[39m) &\n\u001B[32m      8\u001B[39m     (data_selected[\u001B[33m'\u001B[39m\u001B[33mStratificationCategory1\u001B[39m\u001B[33m'\u001B[39m] == \u001B[33m'\u001B[39m\u001B[33mOverall\u001B[39m\u001B[33m'\u001B[39m)]\n\u001B[32m     10\u001B[39m plt.figure(figsize=(\u001B[32m8\u001B[39m,\u001B[32m5\u001B[39m))\n\u001B[32m     11\u001B[39m plt.plot(filtered_data[\u001B[33m'\u001B[39m\u001B[33mYearStart\u001B[39m\u001B[33m'\u001B[39m], filtered_data[\u001B[33m'\u001B[39m\u001B[33mDataValueNum\u001B[39m\u001B[33m'\u001B[39m], marker=\u001B[33m'\u001B[39m\u001B[33mo\u001B[39m\u001B[33m'\u001B[39m)\n",
      "\u001B[36mFile \u001B[39m\u001B[32mC:\\Python313\\Lib\\site-packages\\pandas\\core\\frame.py:4102\u001B[39m, in \u001B[36mDataFrame.__getitem__\u001B[39m\u001B[34m(self, key)\u001B[39m\n\u001B[32m   4100\u001B[39m \u001B[38;5;28;01mif\u001B[39;00m \u001B[38;5;28mself\u001B[39m.columns.nlevels > \u001B[32m1\u001B[39m:\n\u001B[32m   4101\u001B[39m     \u001B[38;5;28;01mreturn\u001B[39;00m \u001B[38;5;28mself\u001B[39m._getitem_multilevel(key)\n\u001B[32m-> \u001B[39m\u001B[32m4102\u001B[39m indexer = \u001B[38;5;28;43mself\u001B[39;49m\u001B[43m.\u001B[49m\u001B[43mcolumns\u001B[49m\u001B[43m.\u001B[49m\u001B[43mget_loc\u001B[49m\u001B[43m(\u001B[49m\u001B[43mkey\u001B[49m\u001B[43m)\u001B[49m\n\u001B[32m   4103\u001B[39m \u001B[38;5;28;01mif\u001B[39;00m is_integer(indexer):\n\u001B[32m   4104\u001B[39m     indexer = [indexer]\n",
      "\u001B[36mFile \u001B[39m\u001B[32mC:\\Python313\\Lib\\site-packages\\pandas\\core\\indexes\\base.py:3812\u001B[39m, in \u001B[36mIndex.get_loc\u001B[39m\u001B[34m(self, key)\u001B[39m\n\u001B[32m   3807\u001B[39m     \u001B[38;5;28;01mif\u001B[39;00m \u001B[38;5;28misinstance\u001B[39m(casted_key, \u001B[38;5;28mslice\u001B[39m) \u001B[38;5;129;01mor\u001B[39;00m (\n\u001B[32m   3808\u001B[39m         \u001B[38;5;28misinstance\u001B[39m(casted_key, abc.Iterable)\n\u001B[32m   3809\u001B[39m         \u001B[38;5;129;01mand\u001B[39;00m \u001B[38;5;28many\u001B[39m(\u001B[38;5;28misinstance\u001B[39m(x, \u001B[38;5;28mslice\u001B[39m) \u001B[38;5;28;01mfor\u001B[39;00m x \u001B[38;5;129;01min\u001B[39;00m casted_key)\n\u001B[32m   3810\u001B[39m     ):\n\u001B[32m   3811\u001B[39m         \u001B[38;5;28;01mraise\u001B[39;00m InvalidIndexError(key)\n\u001B[32m-> \u001B[39m\u001B[32m3812\u001B[39m     \u001B[38;5;28;01mraise\u001B[39;00m \u001B[38;5;167;01mKeyError\u001B[39;00m(key) \u001B[38;5;28;01mfrom\u001B[39;00m\u001B[38;5;250m \u001B[39m\u001B[34;01merr\u001B[39;00m\n\u001B[32m   3813\u001B[39m \u001B[38;5;28;01mexcept\u001B[39;00m \u001B[38;5;167;01mTypeError\u001B[39;00m:\n\u001B[32m   3814\u001B[39m     \u001B[38;5;66;03m# If we have a listlike key, _check_indexing_error will raise\u001B[39;00m\n\u001B[32m   3815\u001B[39m     \u001B[38;5;66;03m#  InvalidIndexError. Otherwise we fall through and re-raise\u001B[39;00m\n\u001B[32m   3816\u001B[39m     \u001B[38;5;66;03m#  the TypeError.\u001B[39;00m\n\u001B[32m   3817\u001B[39m     \u001B[38;5;28mself\u001B[39m._check_indexing_error(key)\n",
      "\u001B[31mKeyError\u001B[39m: 'Topic'"
     ]
    }
   ],
   "execution_count": 43
  },
  {
   "metadata": {},
   "cell_type": "markdown",
   "source": [
    "**Interpretácia:** Ak DataValueNum reprezentuje napr. percento obéznych ľudí, vidíme, ako sa miera obezity menila v priebehu rokov v Kalifornii.\n",
    "\n",
    "---\n",
    "\n",
    "**Úloha:** Vytvorte koláčový graf (`pie` chart) pre počet hodnôt v kategóriách premennej `Topic`. Dáva použitie tohto grafu zmysel ?"
   ],
   "id": "a5fd635de29a6940"
  },
  {
   "metadata": {
    "ExecuteTime": {
     "end_time": "2025-03-20T07:13:53.325862500Z",
     "start_time": "2025-03-20T07:13:53.162873900Z"
    }
   },
   "cell_type": "code",
   "source": [
    "topic_counts = data_selected['Topic'].value_counts()\n",
    "\n",
    "# Create a pie chart\n",
    "plt.figure(figsize=(15, 15))\n",
    "plt.pie(topic_counts, labels=topic_counts.index, autopct='%1.1f%%', startangle=140)\n",
    "plt.title('Distribution of Topics')\n",
    "plt.axis('equal')  # Equal aspect ratio ensures that pie is drawn as a circle.\n",
    "\n",
    "# Display the plot\n",
    "plt.show()"
   ],
   "id": "c028a2694a054f4e",
   "outputs": [
    {
     "ename": "KeyError",
     "evalue": "'Topic'",
     "output_type": "error",
     "traceback": [
      "\u001B[31m---------------------------------------------------------------------------\u001B[39m",
      "\u001B[31mKeyError\u001B[39m                                  Traceback (most recent call last)",
      "\u001B[36mFile \u001B[39m\u001B[32mC:\\Python313\\Lib\\site-packages\\pandas\\core\\indexes\\base.py:3805\u001B[39m, in \u001B[36mIndex.get_loc\u001B[39m\u001B[34m(self, key)\u001B[39m\n\u001B[32m   3804\u001B[39m \u001B[38;5;28;01mtry\u001B[39;00m:\n\u001B[32m-> \u001B[39m\u001B[32m3805\u001B[39m     \u001B[38;5;28;01mreturn\u001B[39;00m \u001B[38;5;28;43mself\u001B[39;49m\u001B[43m.\u001B[49m\u001B[43m_engine\u001B[49m\u001B[43m.\u001B[49m\u001B[43mget_loc\u001B[49m\u001B[43m(\u001B[49m\u001B[43mcasted_key\u001B[49m\u001B[43m)\u001B[49m\n\u001B[32m   3806\u001B[39m \u001B[38;5;28;01mexcept\u001B[39;00m \u001B[38;5;167;01mKeyError\u001B[39;00m \u001B[38;5;28;01mas\u001B[39;00m err:\n",
      "\u001B[36mFile \u001B[39m\u001B[32mindex.pyx:167\u001B[39m, in \u001B[36mpandas._libs.index.IndexEngine.get_loc\u001B[39m\u001B[34m()\u001B[39m\n",
      "\u001B[36mFile \u001B[39m\u001B[32mindex.pyx:196\u001B[39m, in \u001B[36mpandas._libs.index.IndexEngine.get_loc\u001B[39m\u001B[34m()\u001B[39m\n",
      "\u001B[36mFile \u001B[39m\u001B[32mpandas\\\\_libs\\\\hashtable_class_helper.pxi:7081\u001B[39m, in \u001B[36mpandas._libs.hashtable.PyObjectHashTable.get_item\u001B[39m\u001B[34m()\u001B[39m\n",
      "\u001B[36mFile \u001B[39m\u001B[32mpandas\\\\_libs\\\\hashtable_class_helper.pxi:7089\u001B[39m, in \u001B[36mpandas._libs.hashtable.PyObjectHashTable.get_item\u001B[39m\u001B[34m()\u001B[39m\n",
      "\u001B[31mKeyError\u001B[39m: 'Topic'",
      "\nThe above exception was the direct cause of the following exception:\n",
      "\u001B[31mKeyError\u001B[39m                                  Traceback (most recent call last)",
      "\u001B[36mCell\u001B[39m\u001B[36m \u001B[39m\u001B[32mIn[22]\u001B[39m\u001B[32m, line 1\u001B[39m\n\u001B[32m----> \u001B[39m\u001B[32m1\u001B[39m topic_counts = \u001B[43mdata_selected\u001B[49m\u001B[43m[\u001B[49m\u001B[33;43m'\u001B[39;49m\u001B[33;43mTopic\u001B[39;49m\u001B[33;43m'\u001B[39;49m\u001B[43m]\u001B[49m.value_counts()\n\u001B[32m      3\u001B[39m \u001B[38;5;66;03m# Create a pie chart\u001B[39;00m\n\u001B[32m      4\u001B[39m plt.figure(figsize=(\u001B[32m15\u001B[39m, \u001B[32m15\u001B[39m))\n",
      "\u001B[36mFile \u001B[39m\u001B[32mC:\\Python313\\Lib\\site-packages\\pandas\\core\\frame.py:4102\u001B[39m, in \u001B[36mDataFrame.__getitem__\u001B[39m\u001B[34m(self, key)\u001B[39m\n\u001B[32m   4100\u001B[39m \u001B[38;5;28;01mif\u001B[39;00m \u001B[38;5;28mself\u001B[39m.columns.nlevels > \u001B[32m1\u001B[39m:\n\u001B[32m   4101\u001B[39m     \u001B[38;5;28;01mreturn\u001B[39;00m \u001B[38;5;28mself\u001B[39m._getitem_multilevel(key)\n\u001B[32m-> \u001B[39m\u001B[32m4102\u001B[39m indexer = \u001B[38;5;28;43mself\u001B[39;49m\u001B[43m.\u001B[49m\u001B[43mcolumns\u001B[49m\u001B[43m.\u001B[49m\u001B[43mget_loc\u001B[49m\u001B[43m(\u001B[49m\u001B[43mkey\u001B[49m\u001B[43m)\u001B[49m\n\u001B[32m   4103\u001B[39m \u001B[38;5;28;01mif\u001B[39;00m is_integer(indexer):\n\u001B[32m   4104\u001B[39m     indexer = [indexer]\n",
      "\u001B[36mFile \u001B[39m\u001B[32mC:\\Python313\\Lib\\site-packages\\pandas\\core\\indexes\\base.py:3812\u001B[39m, in \u001B[36mIndex.get_loc\u001B[39m\u001B[34m(self, key)\u001B[39m\n\u001B[32m   3807\u001B[39m     \u001B[38;5;28;01mif\u001B[39;00m \u001B[38;5;28misinstance\u001B[39m(casted_key, \u001B[38;5;28mslice\u001B[39m) \u001B[38;5;129;01mor\u001B[39;00m (\n\u001B[32m   3808\u001B[39m         \u001B[38;5;28misinstance\u001B[39m(casted_key, abc.Iterable)\n\u001B[32m   3809\u001B[39m         \u001B[38;5;129;01mand\u001B[39;00m \u001B[38;5;28many\u001B[39m(\u001B[38;5;28misinstance\u001B[39m(x, \u001B[38;5;28mslice\u001B[39m) \u001B[38;5;28;01mfor\u001B[39;00m x \u001B[38;5;129;01min\u001B[39;00m casted_key)\n\u001B[32m   3810\u001B[39m     ):\n\u001B[32m   3811\u001B[39m         \u001B[38;5;28;01mraise\u001B[39;00m InvalidIndexError(key)\n\u001B[32m-> \u001B[39m\u001B[32m3812\u001B[39m     \u001B[38;5;28;01mraise\u001B[39;00m \u001B[38;5;167;01mKeyError\u001B[39;00m(key) \u001B[38;5;28;01mfrom\u001B[39;00m\u001B[38;5;250m \u001B[39m\u001B[34;01merr\u001B[39;00m\n\u001B[32m   3813\u001B[39m \u001B[38;5;28;01mexcept\u001B[39;00m \u001B[38;5;167;01mTypeError\u001B[39;00m:\n\u001B[32m   3814\u001B[39m     \u001B[38;5;66;03m# If we have a listlike key, _check_indexing_error will raise\u001B[39;00m\n\u001B[32m   3815\u001B[39m     \u001B[38;5;66;03m#  InvalidIndexError. Otherwise we fall through and re-raise\u001B[39;00m\n\u001B[32m   3816\u001B[39m     \u001B[38;5;66;03m#  the TypeError.\u001B[39;00m\n\u001B[32m   3817\u001B[39m     \u001B[38;5;28mself\u001B[39m._check_indexing_error(key)\n",
      "\u001B[31mKeyError\u001B[39m: 'Topic'"
     ]
    }
   ],
   "execution_count": 22
  },
  {
   "metadata": {},
   "cell_type": "markdown",
   "source": [
    "**Príklad:** Porovnanie priemerných hodnôt `DataValueNum` pre vybrané roky (2019, 2020, 2021) pomocou viacerých stĺpcových grafov. Zobrazenie viacerých grafov v jednom obrázku nastavíte parametrom `subplots=True`. Metóda `pivot_table` vytvorí tabuľku, kde riadky budú `LocationAbbr` a stĺpce `YearStart`. Metóda `.isin()` umožní filtrovať dáta podľa zoznamu hodnôt - [Dokumentácia isin](https://pandas.pydata.org/docs/reference/api/pandas.DataFrame.isin.html).\n"
   ],
   "id": "ecac31d8d5d1b032"
  },
  {
   "metadata": {
    "ExecuteTime": {
     "end_time": "2025-03-20T07:38:34.386097500Z",
     "start_time": "2025-03-20T07:38:34.283328700Z"
    }
   },
   "cell_type": "code",
   "source": [
    "import pandas as pd\n",
    "import matplotlib.pyplot as plt\n",
    "\n",
    "# Filter the data for the selected years\n",
    "selected_years = [2019, 2020, 2021]\n",
    "filtered_data = data_selected[data_clean['YearStart'].isin(selected_years)]\n",
    "\n",
    "# Create a pivot table with 'LocationAbbr' as index and 'YearStart' as columns\n",
    "pivot_table = filtered_data.pivot_table(\n",
    "    values='DataValueNum',\n",
    "    index='LocationAbbr',\n",
    "    columns='YearStart',\n",
    "    aggfunc='mean'\n",
    ")\n",
    "\n",
    "# Plot the bar chart\n",
    "pivot_table.plot(kind='bar', figsize=(12, 6), subplots=True)\n",
    "plt.suptitle('Average DataValueNum for Selected Years')\n",
    "plt.show()"
   ],
   "id": "3ad51ac7820b61da",
   "outputs": [
    {
     "ename": "NameError",
     "evalue": "name 'data_selected' is not defined",
     "output_type": "error",
     "traceback": [
      "\u001B[31m---------------------------------------------------------------------------\u001B[39m",
      "\u001B[31mNameError\u001B[39m                                 Traceback (most recent call last)",
      "\u001B[36mCell\u001B[39m\u001B[36m \u001B[39m\u001B[32mIn[3]\u001B[39m\u001B[32m, line 6\u001B[39m\n\u001B[32m      4\u001B[39m \u001B[38;5;66;03m# Filter the data for the selected years\u001B[39;00m\n\u001B[32m      5\u001B[39m selected_years = [\u001B[32m2019\u001B[39m, \u001B[32m2020\u001B[39m, \u001B[32m2021\u001B[39m]\n\u001B[32m----> \u001B[39m\u001B[32m6\u001B[39m filtered_data = \u001B[43mdata_selected\u001B[49m[data_clean[\u001B[33m'\u001B[39m\u001B[33mYearStart\u001B[39m\u001B[33m'\u001B[39m].isin(selected_years)]\n\u001B[32m      8\u001B[39m \u001B[38;5;66;03m# Create a pivot table with 'LocationAbbr' as index and 'YearStart' as columns\u001B[39;00m\n\u001B[32m      9\u001B[39m pivot_table = filtered_data.pivot_table(\n\u001B[32m     10\u001B[39m     values=\u001B[33m'\u001B[39m\u001B[33mDataValueNum\u001B[39m\u001B[33m'\u001B[39m,\n\u001B[32m     11\u001B[39m     index=\u001B[33m'\u001B[39m\u001B[33mLocationAbbr\u001B[39m\u001B[33m'\u001B[39m,\n\u001B[32m     12\u001B[39m     columns=\u001B[33m'\u001B[39m\u001B[33mYearStart\u001B[39m\u001B[33m'\u001B[39m,\n\u001B[32m     13\u001B[39m     aggfunc=\u001B[33m'\u001B[39m\u001B[33mmean\u001B[39m\u001B[33m'\u001B[39m\n\u001B[32m     14\u001B[39m )\n",
      "\u001B[31mNameError\u001B[39m: name 'data_selected' is not defined"
     ]
    }
   ],
   "execution_count": 3
  },
  {
   "metadata": {},
   "cell_type": "markdown",
   "source": [
    "---\n",
    "\n",
    "## **8. Analýza (analyze)**\n",
    "\n",
    "V tejto fáze môžeme použiť rôzne **štatistické metódy** (napr. korelácia, testy hypotéz) alebo **strojové učenie** (napr. regresiu, klasifikáciu) na predikciu alebo zhlukovanie dát.\n",
    "\n",
    "- **Korelácia**: zistíme, ako spolu súvisia dva (či viac) numerických stĺpcov.\n",
    "- **Regresia**: ak chceme predpovedať `DataValueNum` na základe iných premenných.\n",
    "- **Klasifikácia**: ak by sme mali stĺpec s triedami (napr. `Topic` s viacerými kategóriami) a chceli by sme predikovať.\n",
    "- **Zhlukovanie (clustering)**: ak hľadáme skupiny podobných záznamov.\n",
    "- **Hypotézy**: testy hypotéz (t-test, ANOVA) nám pomôžu overiť, či sú dáta štatisticky signifikantné.\n",
    "- **Outlier detection**: detekcia extrémnych hodnôt, ktoré môžu narušiť analýzu.\n",
    "- **Ďalšie**: PCA, feature selection, cross-validation, atď.\n",
    "- Môžeme použiť aj **neurónové siete** alebo **reinforcement learning**.\n",
    "\n",
    "Môžeme použiť:\n",
    "- .corr() – vypočíta korelácie medzi numerickými stĺpcami - [Dokumentácia corr](https://pandas.pydata.org/docs/reference/api/pandas.DataFrame.corr.html)\n",
    "- ttest_ind() – vykoná t-test na overenie hypotéz - [Dokumentácia ttest_ind](https://docs.scipy.org/doc/scipy/reference/generated/scipy.stats.ttest_ind.html)\n",
    "- zscore() – vypočíta z-score pre detekciu outlierov - [Dokumentácia zscore](https://docs.scipy.org/docs/scipy/reference/generated/scipy.stats.zscore.html)\n",
    "\n",
    "+ **Knižnice**: Na analýzu dát môžeme použiť **scikit-learn**, **statsmodels**, **seaborn**, **scipy**, **numpy**, **pandas**, **torch** alebo **tensorflow**.\n",
    "\n",
    "**Prečo to robiť**\n",
    "- Pomáha nám to pochopiť dáta a vzťahy medzi nimi.\n",
    "- Môžeme odhaliť zaujímavé vzory alebo trendy.\n",
    "- Môžeme predikovať budúce hodnoty alebo klasifikovať nové záznamy.\n",
    "- Môžeme overiť hypotézy alebo zistiť, či sú dáta štatisticky signifikantné.\n",
    "- Môžeme detegovať outlierov alebo zhlukovať podobné záznamy.\n",
    "- Môžeme vytvoriť prediktívne modely pre rôzne úlohy.\n",
    "\n",
    "\n",
    "Korelácia popisuje vzájomné vzťahy medzi premennými. Premenné sa môžu navzájom ovplyvňovať, čo môže byť lineárne alebo nelineárne. Vizualizácia korelácie je užitočná pre jednoduché pochopenie, či je možné pomocou vybraných premenných jednoznačne oddeliť hodnoty závislej premennej.\n",
    "    - Hodnota korelácie je v intervale <-1, 1>\n",
    "    - pozitívna (1) - so zvyšovaním jednej premennej sa zvyšuje aj druhá\n",
    "    - negatívna (-1) - so zvyšovaním jednej premennej sa druhá premenná znižuje\n",
    "    - nulová (0) - premenné sa neovplyvňujú\n",
    "\n",
    "Korelácia neznamená kauzalitu - dva javy sa môžu ukazovať ako závislé, ale neznamená to, že jeden spôsobuje vznik druhého.\n",
    "\n",
    "**Príklad** – Korelácia"
   ],
   "id": "e262436aa4d57eae"
  },
  {
   "metadata": {},
   "cell_type": "code",
   "source": [
    "# pip install seaborn"
   ],
   "id": "48341992f0058d",
   "outputs": [],
   "execution_count": null
  },
  {
   "metadata": {
    "ExecuteTime": {
     "end_time": "2025-03-20T07:38:17.895685600Z",
     "start_time": "2025-03-20T07:38:17.804020700Z"
    }
   },
   "cell_type": "code",
   "source": [
    "import seaborn as sns\n",
    "\n",
    "plt.figure(figsize=(13, 13))\n",
    "# Korelačná matica (numeric_only=True v novších verziách Pandas)\n",
    "corr_matrix = data_selected.corr(numeric_only=True)\n",
    "\n",
    "# Teplotná mapa korelácií\n",
    "sns.heatmap(corr_matrix, annot=True, fmt='.2f', cmap='coolwarm')\n",
    "plt.title('Correlation Matrix')\n",
    "plt.show()"
   ],
   "id": "55a7acc44ebaaeec",
   "outputs": [
    {
     "ename": "NameError",
     "evalue": "name 'plt' is not defined",
     "output_type": "error",
     "traceback": [
      "\u001B[31m---------------------------------------------------------------------------\u001B[39m",
      "\u001B[31mNameError\u001B[39m                                 Traceback (most recent call last)",
      "\u001B[36mCell\u001B[39m\u001B[36m \u001B[39m\u001B[32mIn[2]\u001B[39m\u001B[32m, line 3\u001B[39m\n\u001B[32m      1\u001B[39m \u001B[38;5;28;01mimport\u001B[39;00m\u001B[38;5;250m \u001B[39m\u001B[34;01mseaborn\u001B[39;00m\u001B[38;5;250m \u001B[39m\u001B[38;5;28;01mas\u001B[39;00m\u001B[38;5;250m \u001B[39m\u001B[34;01msns\u001B[39;00m\n\u001B[32m----> \u001B[39m\u001B[32m3\u001B[39m \u001B[43mplt\u001B[49m.figure(figsize=(\u001B[32m13\u001B[39m, \u001B[32m13\u001B[39m))\n\u001B[32m      4\u001B[39m \u001B[38;5;66;03m# Korelačná matica (numeric_only=True v novších verziách Pandas)\u001B[39;00m\n\u001B[32m      5\u001B[39m corr_matrix = data_selected.corr(numeric_only=\u001B[38;5;28;01mTrue\u001B[39;00m)\n",
      "\u001B[31mNameError\u001B[39m: name 'plt' is not defined"
     ]
    }
   ],
   "execution_count": 2
  },
  {
   "metadata": {},
   "cell_type": "markdown",
   "source": [
    "**Úloha:** Vytvorte korelačnú maticu pre vybrané témy z vyfiltrovaných údajov. Pri vytváraní vyfiltrovaných údajov vytvorte pivot tabuľku pre lokality (`LocationAbbr`) ako index a `Topic` ako stĺpce. Ako hodnoty použite priemernú hodnotu `DataValueNum`.\n",
    " Ďalej zvážte len hodnoty pre rok 2020 a typ hodnoty `Crude Prevalence`.\n",
    " a zobrazte ju pomocou heatmapy. Aké závislosti medzi premennými vidíte?\n",
    "\n",
    "Hint:\n",
    "Zvoľte si konkrétne témy (napr. Diabetes, Cancer, Obesity).\n",
    "Vyfiltrujte dáta pre vybrané témy.\n",
    "Vyfiltrujte dáta podľa `YearStart` pre rok 2020 a `ValueType` pre `Crude Prevalence`, aby boli analyzované dáta rovnakého typu.\n",
    "Vytvorte pivot tabuľku pre lokality (`LocationAbbr`) ako index a `Topic` ako stĺpce. Ako hodnoty použite priemernú hodnotu `DataValueNum`.\n",
    "Vypočítajte korelačnú maticu.\n",
    "Zobrazte heatmapu korelačnej matice.\n"
   ],
   "id": "ce00516a91f36931"
  },
  {
   "metadata": {
    "ExecuteTime": {
     "end_time": "2025-03-20T07:20:17.654870900Z",
     "start_time": "2025-03-20T07:20:17.493305500Z"
    }
   },
   "cell_type": "code",
   "source": [
    "# lists all available values in Topic variable\n",
    "data_clean['Topic'].cat.categories\n",
    "\n",
    "selected_topics = ['Chronic Obstructive Pulmonary Disease',\n",
    "       'Cognitive Health and Caregiving', 'Diabetes', 'Disability',\n",
    "       'Health Status', 'Immunization', 'Maternal Health', 'Mental Health',\n",
    "       'Nutrition, Physical Activity, and Weight Status', 'Oral Health',\n",
    "       'Sleep', 'Social Determinants of Health', 'Tobacco']\n",
    "\n",
    "# filter the data for the selected topics\n",
    "filtered = data_selected[data_selected['Topic'].isin(selected_topics)]\n",
    "\n",
    "# filter the data for the year 2020 and ValueType 'Crude Prevalence'\n",
    "filtered = filtered[(filtered['YearStart'] == 2020) & (filtered['ValueType'] == 'Crude Prevalence')]\n",
    "\n",
    "# create a pivot table\n",
    "pivot_df = filtered.pivot_table(values='DataValueNum',\n",
    "                                index='LocationAbbr',\n",
    "                                columns='Topic',\n",
    "                                aggfunc='mean')\n",
    "\n",
    "# create the correlation matrix\n",
    "corr_matrix = pivot_df.corr()\n",
    "\n",
    "# display the heatmap\n",
    "plt.figure(figsize=(10,10))\n",
    "sns.heatmap(corr_matrix, annot=True, cmap='coolwarm', vmin=-1, vmax=1)\n",
    "plt.title('Korelačná matica vybraných rizikových faktorov (2020)')\n",
    "plt.show()"
   ],
   "id": "744f237a00814bbd",
   "outputs": [
    {
     "ename": "KeyError",
     "evalue": "'Topic'",
     "output_type": "error",
     "traceback": [
      "\u001B[31m---------------------------------------------------------------------------\u001B[39m",
      "\u001B[31mKeyError\u001B[39m                                  Traceback (most recent call last)",
      "\u001B[36mFile \u001B[39m\u001B[32mC:\\Python313\\Lib\\site-packages\\pandas\\core\\indexes\\base.py:3805\u001B[39m, in \u001B[36mIndex.get_loc\u001B[39m\u001B[34m(self, key)\u001B[39m\n\u001B[32m   3804\u001B[39m \u001B[38;5;28;01mtry\u001B[39;00m:\n\u001B[32m-> \u001B[39m\u001B[32m3805\u001B[39m     \u001B[38;5;28;01mreturn\u001B[39;00m \u001B[38;5;28;43mself\u001B[39;49m\u001B[43m.\u001B[49m\u001B[43m_engine\u001B[49m\u001B[43m.\u001B[49m\u001B[43mget_loc\u001B[49m\u001B[43m(\u001B[49m\u001B[43mcasted_key\u001B[49m\u001B[43m)\u001B[49m\n\u001B[32m   3806\u001B[39m \u001B[38;5;28;01mexcept\u001B[39;00m \u001B[38;5;167;01mKeyError\u001B[39;00m \u001B[38;5;28;01mas\u001B[39;00m err:\n",
      "\u001B[36mFile \u001B[39m\u001B[32mindex.pyx:167\u001B[39m, in \u001B[36mpandas._libs.index.IndexEngine.get_loc\u001B[39m\u001B[34m()\u001B[39m\n",
      "\u001B[36mFile \u001B[39m\u001B[32mindex.pyx:196\u001B[39m, in \u001B[36mpandas._libs.index.IndexEngine.get_loc\u001B[39m\u001B[34m()\u001B[39m\n",
      "\u001B[36mFile \u001B[39m\u001B[32mpandas\\\\_libs\\\\hashtable_class_helper.pxi:7081\u001B[39m, in \u001B[36mpandas._libs.hashtable.PyObjectHashTable.get_item\u001B[39m\u001B[34m()\u001B[39m\n",
      "\u001B[36mFile \u001B[39m\u001B[32mpandas\\\\_libs\\\\hashtable_class_helper.pxi:7089\u001B[39m, in \u001B[36mpandas._libs.hashtable.PyObjectHashTable.get_item\u001B[39m\u001B[34m()\u001B[39m\n",
      "\u001B[31mKeyError\u001B[39m: 'Topic'",
      "\nThe above exception was the direct cause of the following exception:\n",
      "\u001B[31mKeyError\u001B[39m                                  Traceback (most recent call last)",
      "\u001B[36mCell\u001B[39m\u001B[36m \u001B[39m\u001B[32mIn[25]\u001B[39m\u001B[32m, line 11\u001B[39m\n\u001B[32m      4\u001B[39m selected_topics = [\u001B[33m'\u001B[39m\u001B[33mChronic Obstructive Pulmonary Disease\u001B[39m\u001B[33m'\u001B[39m,\n\u001B[32m      5\u001B[39m        \u001B[33m'\u001B[39m\u001B[33mCognitive Health and Caregiving\u001B[39m\u001B[33m'\u001B[39m, \u001B[33m'\u001B[39m\u001B[33mDiabetes\u001B[39m\u001B[33m'\u001B[39m, \u001B[33m'\u001B[39m\u001B[33mDisability\u001B[39m\u001B[33m'\u001B[39m,\n\u001B[32m      6\u001B[39m        \u001B[33m'\u001B[39m\u001B[33mHealth Status\u001B[39m\u001B[33m'\u001B[39m, \u001B[33m'\u001B[39m\u001B[33mImmunization\u001B[39m\u001B[33m'\u001B[39m, \u001B[33m'\u001B[39m\u001B[33mMaternal Health\u001B[39m\u001B[33m'\u001B[39m, \u001B[33m'\u001B[39m\u001B[33mMental Health\u001B[39m\u001B[33m'\u001B[39m,\n\u001B[32m      7\u001B[39m        \u001B[33m'\u001B[39m\u001B[33mNutrition, Physical Activity, and Weight Status\u001B[39m\u001B[33m'\u001B[39m, \u001B[33m'\u001B[39m\u001B[33mOral Health\u001B[39m\u001B[33m'\u001B[39m,\n\u001B[32m      8\u001B[39m        \u001B[33m'\u001B[39m\u001B[33mSleep\u001B[39m\u001B[33m'\u001B[39m, \u001B[33m'\u001B[39m\u001B[33mSocial Determinants of Health\u001B[39m\u001B[33m'\u001B[39m, \u001B[33m'\u001B[39m\u001B[33mTobacco\u001B[39m\u001B[33m'\u001B[39m]\n\u001B[32m     10\u001B[39m \u001B[38;5;66;03m# filter the data for the selected topics\u001B[39;00m\n\u001B[32m---> \u001B[39m\u001B[32m11\u001B[39m filtered = data_selected[\u001B[43mdata_selected\u001B[49m\u001B[43m[\u001B[49m\u001B[33;43m'\u001B[39;49m\u001B[33;43mTopic\u001B[39;49m\u001B[33;43m'\u001B[39;49m\u001B[43m]\u001B[49m.isin(selected_topics)]\n\u001B[32m     13\u001B[39m \u001B[38;5;66;03m# filter the data for the year 2020 and ValueType 'Crude Prevalence'\u001B[39;00m\n\u001B[32m     14\u001B[39m filtered = filtered[(filtered[\u001B[33m'\u001B[39m\u001B[33mYearStart\u001B[39m\u001B[33m'\u001B[39m] == \u001B[32m2020\u001B[39m) & (filtered[\u001B[33m'\u001B[39m\u001B[33mValueType\u001B[39m\u001B[33m'\u001B[39m] == \u001B[33m'\u001B[39m\u001B[33mCrude Prevalence\u001B[39m\u001B[33m'\u001B[39m)]\n",
      "\u001B[36mFile \u001B[39m\u001B[32mC:\\Python313\\Lib\\site-packages\\pandas\\core\\frame.py:4102\u001B[39m, in \u001B[36mDataFrame.__getitem__\u001B[39m\u001B[34m(self, key)\u001B[39m\n\u001B[32m   4100\u001B[39m \u001B[38;5;28;01mif\u001B[39;00m \u001B[38;5;28mself\u001B[39m.columns.nlevels > \u001B[32m1\u001B[39m:\n\u001B[32m   4101\u001B[39m     \u001B[38;5;28;01mreturn\u001B[39;00m \u001B[38;5;28mself\u001B[39m._getitem_multilevel(key)\n\u001B[32m-> \u001B[39m\u001B[32m4102\u001B[39m indexer = \u001B[38;5;28;43mself\u001B[39;49m\u001B[43m.\u001B[49m\u001B[43mcolumns\u001B[49m\u001B[43m.\u001B[49m\u001B[43mget_loc\u001B[49m\u001B[43m(\u001B[49m\u001B[43mkey\u001B[49m\u001B[43m)\u001B[49m\n\u001B[32m   4103\u001B[39m \u001B[38;5;28;01mif\u001B[39;00m is_integer(indexer):\n\u001B[32m   4104\u001B[39m     indexer = [indexer]\n",
      "\u001B[36mFile \u001B[39m\u001B[32mC:\\Python313\\Lib\\site-packages\\pandas\\core\\indexes\\base.py:3812\u001B[39m, in \u001B[36mIndex.get_loc\u001B[39m\u001B[34m(self, key)\u001B[39m\n\u001B[32m   3807\u001B[39m     \u001B[38;5;28;01mif\u001B[39;00m \u001B[38;5;28misinstance\u001B[39m(casted_key, \u001B[38;5;28mslice\u001B[39m) \u001B[38;5;129;01mor\u001B[39;00m (\n\u001B[32m   3808\u001B[39m         \u001B[38;5;28misinstance\u001B[39m(casted_key, abc.Iterable)\n\u001B[32m   3809\u001B[39m         \u001B[38;5;129;01mand\u001B[39;00m \u001B[38;5;28many\u001B[39m(\u001B[38;5;28misinstance\u001B[39m(x, \u001B[38;5;28mslice\u001B[39m) \u001B[38;5;28;01mfor\u001B[39;00m x \u001B[38;5;129;01min\u001B[39;00m casted_key)\n\u001B[32m   3810\u001B[39m     ):\n\u001B[32m   3811\u001B[39m         \u001B[38;5;28;01mraise\u001B[39;00m InvalidIndexError(key)\n\u001B[32m-> \u001B[39m\u001B[32m3812\u001B[39m     \u001B[38;5;28;01mraise\u001B[39;00m \u001B[38;5;167;01mKeyError\u001B[39;00m(key) \u001B[38;5;28;01mfrom\u001B[39;00m\u001B[38;5;250m \u001B[39m\u001B[34;01merr\u001B[39;00m\n\u001B[32m   3813\u001B[39m \u001B[38;5;28;01mexcept\u001B[39;00m \u001B[38;5;167;01mTypeError\u001B[39;00m:\n\u001B[32m   3814\u001B[39m     \u001B[38;5;66;03m# If we have a listlike key, _check_indexing_error will raise\u001B[39;00m\n\u001B[32m   3815\u001B[39m     \u001B[38;5;66;03m#  InvalidIndexError. Otherwise we fall through and re-raise\u001B[39;00m\n\u001B[32m   3816\u001B[39m     \u001B[38;5;66;03m#  the TypeError.\u001B[39;00m\n\u001B[32m   3817\u001B[39m     \u001B[38;5;28mself\u001B[39m._check_indexing_error(key)\n",
      "\u001B[31mKeyError\u001B[39m: 'Topic'"
     ]
    }
   ],
   "execution_count": 25
  },
  {
   "metadata": {},
   "cell_type": "markdown",
   "source": [
    "**Úloha:** Uveďte medzi ktorými témami je najvyššia korelácia a aké závislosti medzi nimi vidíte?"
   ],
   "id": "3b5010111b907dcd"
  },
  {
   "metadata": {},
   "cell_type": "code",
   "source": [],
   "id": "2fb614704cf8ed48",
   "outputs": [],
   "execution_count": null
  },
  {
   "metadata": {},
   "cell_type": "markdown",
   "source": [
    "**Príklad** – Jednoduchý test hypotézy\n",
    "\n",
    "**T-test**\n",
    "- Štatistický test, ktorý sa používa na porovnávanie priemerných hodnôt medzi dvoma (alebo niekedy jednou) skupinami.\n",
    "- Cieľom je zistiť, či sa pozorované rozdiely v priemeroch dajú pripísať náhode, alebo či sú štatisticky významné.\n",
    "\n",
    "Jednovýberový t-test (one-sample t-test): Porovnáva priemer jednej skupiny voči nejakej známej (teoretickej) hodnote.\n",
    "\n",
    "Dvojvýberový t-test (two-sample t-test): Porovnáva priemery dvoch nezávislých skupín (napr. experimentálna vs. kontrolná skupina).\n",
    "\n",
    "Párový t-test (paired t-test): Porovnáva priemery dvoch meraní na tých istých subjektoch (napr. pred a po intervencii).\n",
    "\n",
    "Pomocou t-testu môžeme napr. overiť, či je priemerné `DataValueNum` pre tému `Diabetes` signifikantne vyššie než pre tému `Asthma` - [Dokumentácia ttest_ind](https://docs.scipy.org/docs/scipy/reference/generated/scipy.stats.ttest_ind.html).\n",
    "\n",
    "hodnota t-stat:\n",
    "Vyjadruje hodnotu, o koľko štandardných chýb sa priemer jednej (alebo rozdiel priemerov dvoch) skupiny(-n) odchýli od teoretickej nulovej hypotézy.\n",
    "\n",
    "p-hodnota:\n",
    "Vyjadruje pravdepodobnosť, že dostaneme taký alebo ešte väčší rozdiel (resp. vyššiu t-štatistiku), ak by nulová hypotéza bola v skutočnosti pravdivá (teda ak by medzi skupinami nebol skutočný rozdiel).\n",
    "Ak je p-hodnota veľmi malá (napríklad menšia ako 0,05), zvyčajne hovoríme, že rozdiel je štatisticky významný – je málo pravdepodobné, že vznikol čisto náhodou.\n",
    "Ak je p-hodnota veľká (napr. > 0,05), pozorovaný rozdiel môže byť dôsledkom náhodnej variability a nemôžeme zamietnuť nulovú hypotézu."
   ],
   "id": "53de744d81abace0"
  },
  {
   "metadata": {},
   "cell_type": "code",
   "source": [
    "# pip install scipy"
   ],
   "id": "77f95f6e7e91544c",
   "outputs": [],
   "execution_count": null
  },
  {
   "metadata": {
    "ExecuteTime": {
     "end_time": "2025-03-20T07:23:38.880346Z",
     "start_time": "2025-03-20T07:23:38.745719300Z"
    }
   },
   "cell_type": "code",
   "source": [
    "from scipy.stats import ttest_ind\n",
    "\n",
    "diabetes_vals = data_selected.loc[(data_selected['Topic']=='Tobacco') & (data_selected['ValueType']=='Crude Prevalence'), 'DataValueNum'].dropna()\n",
    "asthma_vals = data_selected.loc[(data_selected['Topic']=='Asthma') & (data_selected['ValueType']=='Crude Prevalence'), 'DataValueNum'].dropna()\n",
    "\n",
    "stat, p_value = ttest_ind(diabetes_vals, asthma_vals, equal_var=False)\n",
    "\n",
    "print(\"Test stat:\", stat)\n",
    "print(\"p-value:\", p_value)\n",
    "\n",
    "# Interpretation\n",
    "if p_value < 0.05:\n",
    "    print(\"The average DataValueNum for Cancer is significantly different from Sleep.\")\n",
    "else:\n",
    "    print(\"There is no significant difference in the average DataValueNum between Cancer and Sleep.\")"
   ],
   "id": "fcf03059c4288353",
   "outputs": [
    {
     "ename": "KeyError",
     "evalue": "'Topic'",
     "output_type": "error",
     "traceback": [
      "\u001B[31m---------------------------------------------------------------------------\u001B[39m",
      "\u001B[31mKeyError\u001B[39m                                  Traceback (most recent call last)",
      "\u001B[36mFile \u001B[39m\u001B[32mC:\\Python313\\Lib\\site-packages\\pandas\\core\\indexes\\base.py:3805\u001B[39m, in \u001B[36mIndex.get_loc\u001B[39m\u001B[34m(self, key)\u001B[39m\n\u001B[32m   3804\u001B[39m \u001B[38;5;28;01mtry\u001B[39;00m:\n\u001B[32m-> \u001B[39m\u001B[32m3805\u001B[39m     \u001B[38;5;28;01mreturn\u001B[39;00m \u001B[38;5;28;43mself\u001B[39;49m\u001B[43m.\u001B[49m\u001B[43m_engine\u001B[49m\u001B[43m.\u001B[49m\u001B[43mget_loc\u001B[49m\u001B[43m(\u001B[49m\u001B[43mcasted_key\u001B[49m\u001B[43m)\u001B[49m\n\u001B[32m   3806\u001B[39m \u001B[38;5;28;01mexcept\u001B[39;00m \u001B[38;5;167;01mKeyError\u001B[39;00m \u001B[38;5;28;01mas\u001B[39;00m err:\n",
      "\u001B[36mFile \u001B[39m\u001B[32mindex.pyx:167\u001B[39m, in \u001B[36mpandas._libs.index.IndexEngine.get_loc\u001B[39m\u001B[34m()\u001B[39m\n",
      "\u001B[36mFile \u001B[39m\u001B[32mindex.pyx:196\u001B[39m, in \u001B[36mpandas._libs.index.IndexEngine.get_loc\u001B[39m\u001B[34m()\u001B[39m\n",
      "\u001B[36mFile \u001B[39m\u001B[32mpandas\\\\_libs\\\\hashtable_class_helper.pxi:7081\u001B[39m, in \u001B[36mpandas._libs.hashtable.PyObjectHashTable.get_item\u001B[39m\u001B[34m()\u001B[39m\n",
      "\u001B[36mFile \u001B[39m\u001B[32mpandas\\\\_libs\\\\hashtable_class_helper.pxi:7089\u001B[39m, in \u001B[36mpandas._libs.hashtable.PyObjectHashTable.get_item\u001B[39m\u001B[34m()\u001B[39m\n",
      "\u001B[31mKeyError\u001B[39m: 'Topic'",
      "\nThe above exception was the direct cause of the following exception:\n",
      "\u001B[31mKeyError\u001B[39m                                  Traceback (most recent call last)",
      "\u001B[36mCell\u001B[39m\u001B[36m \u001B[39m\u001B[32mIn[26]\u001B[39m\u001B[32m, line 3\u001B[39m\n\u001B[32m      1\u001B[39m \u001B[38;5;28;01mfrom\u001B[39;00m\u001B[38;5;250m \u001B[39m\u001B[34;01mscipy\u001B[39;00m\u001B[34;01m.\u001B[39;00m\u001B[34;01mstats\u001B[39;00m\u001B[38;5;250m \u001B[39m\u001B[38;5;28;01mimport\u001B[39;00m ttest_ind\n\u001B[32m----> \u001B[39m\u001B[32m3\u001B[39m diabetes_vals = data_selected.loc[(\u001B[43mdata_selected\u001B[49m\u001B[43m[\u001B[49m\u001B[33;43m'\u001B[39;49m\u001B[33;43mTopic\u001B[39;49m\u001B[33;43m'\u001B[39;49m\u001B[43m]\u001B[49m==\u001B[33m'\u001B[39m\u001B[33mTobacco\u001B[39m\u001B[33m'\u001B[39m) & (data_selected[\u001B[33m'\u001B[39m\u001B[33mValueType\u001B[39m\u001B[33m'\u001B[39m]==\u001B[33m'\u001B[39m\u001B[33mCrude Prevalence\u001B[39m\u001B[33m'\u001B[39m), \u001B[33m'\u001B[39m\u001B[33mDataValueNum\u001B[39m\u001B[33m'\u001B[39m].dropna()\n\u001B[32m      4\u001B[39m asthma_vals = data_selected.loc[(data_selected[\u001B[33m'\u001B[39m\u001B[33mTopic\u001B[39m\u001B[33m'\u001B[39m]==\u001B[33m'\u001B[39m\u001B[33mAsthma\u001B[39m\u001B[33m'\u001B[39m) & (data_selected[\u001B[33m'\u001B[39m\u001B[33mValueType\u001B[39m\u001B[33m'\u001B[39m]==\u001B[33m'\u001B[39m\u001B[33mCrude Prevalence\u001B[39m\u001B[33m'\u001B[39m), \u001B[33m'\u001B[39m\u001B[33mDataValueNum\u001B[39m\u001B[33m'\u001B[39m].dropna()\n\u001B[32m      6\u001B[39m stat, p_value = ttest_ind(diabetes_vals, asthma_vals, equal_var=\u001B[38;5;28;01mFalse\u001B[39;00m)\n",
      "\u001B[36mFile \u001B[39m\u001B[32mC:\\Python313\\Lib\\site-packages\\pandas\\core\\frame.py:4102\u001B[39m, in \u001B[36mDataFrame.__getitem__\u001B[39m\u001B[34m(self, key)\u001B[39m\n\u001B[32m   4100\u001B[39m \u001B[38;5;28;01mif\u001B[39;00m \u001B[38;5;28mself\u001B[39m.columns.nlevels > \u001B[32m1\u001B[39m:\n\u001B[32m   4101\u001B[39m     \u001B[38;5;28;01mreturn\u001B[39;00m \u001B[38;5;28mself\u001B[39m._getitem_multilevel(key)\n\u001B[32m-> \u001B[39m\u001B[32m4102\u001B[39m indexer = \u001B[38;5;28;43mself\u001B[39;49m\u001B[43m.\u001B[49m\u001B[43mcolumns\u001B[49m\u001B[43m.\u001B[49m\u001B[43mget_loc\u001B[49m\u001B[43m(\u001B[49m\u001B[43mkey\u001B[49m\u001B[43m)\u001B[49m\n\u001B[32m   4103\u001B[39m \u001B[38;5;28;01mif\u001B[39;00m is_integer(indexer):\n\u001B[32m   4104\u001B[39m     indexer = [indexer]\n",
      "\u001B[36mFile \u001B[39m\u001B[32mC:\\Python313\\Lib\\site-packages\\pandas\\core\\indexes\\base.py:3812\u001B[39m, in \u001B[36mIndex.get_loc\u001B[39m\u001B[34m(self, key)\u001B[39m\n\u001B[32m   3807\u001B[39m     \u001B[38;5;28;01mif\u001B[39;00m \u001B[38;5;28misinstance\u001B[39m(casted_key, \u001B[38;5;28mslice\u001B[39m) \u001B[38;5;129;01mor\u001B[39;00m (\n\u001B[32m   3808\u001B[39m         \u001B[38;5;28misinstance\u001B[39m(casted_key, abc.Iterable)\n\u001B[32m   3809\u001B[39m         \u001B[38;5;129;01mand\u001B[39;00m \u001B[38;5;28many\u001B[39m(\u001B[38;5;28misinstance\u001B[39m(x, \u001B[38;5;28mslice\u001B[39m) \u001B[38;5;28;01mfor\u001B[39;00m x \u001B[38;5;129;01min\u001B[39;00m casted_key)\n\u001B[32m   3810\u001B[39m     ):\n\u001B[32m   3811\u001B[39m         \u001B[38;5;28;01mraise\u001B[39;00m InvalidIndexError(key)\n\u001B[32m-> \u001B[39m\u001B[32m3812\u001B[39m     \u001B[38;5;28;01mraise\u001B[39;00m \u001B[38;5;167;01mKeyError\u001B[39;00m(key) \u001B[38;5;28;01mfrom\u001B[39;00m\u001B[38;5;250m \u001B[39m\u001B[34;01merr\u001B[39;00m\n\u001B[32m   3813\u001B[39m \u001B[38;5;28;01mexcept\u001B[39;00m \u001B[38;5;167;01mTypeError\u001B[39;00m:\n\u001B[32m   3814\u001B[39m     \u001B[38;5;66;03m# If we have a listlike key, _check_indexing_error will raise\u001B[39;00m\n\u001B[32m   3815\u001B[39m     \u001B[38;5;66;03m#  InvalidIndexError. Otherwise we fall through and re-raise\u001B[39;00m\n\u001B[32m   3816\u001B[39m     \u001B[38;5;66;03m#  the TypeError.\u001B[39;00m\n\u001B[32m   3817\u001B[39m     \u001B[38;5;28mself\u001B[39m._check_indexing_error(key)\n",
      "\u001B[31mKeyError\u001B[39m: 'Topic'"
     ]
    }
   ],
   "execution_count": 26
  },
  {
   "metadata": {},
   "cell_type": "markdown",
   "source": [
    "**Interpretácia:** Ak je p-hodnota nízka (napr. < 0.05), máme dôkaz, že priemer diabetes je štatisticky iný ako priemer asthma.\n",
    "\n",
    "**Úloha:** Vyskúšajte to pre iné dve témy (napr. Sleep a Cancer) a interpretujte výsledok.\n"
   ],
   "id": "9e462ce675bd6dce"
  },
  {
   "metadata": {
    "ExecuteTime": {
     "end_time": "2025-03-20T07:25:56.347127700Z",
     "start_time": "2025-03-20T07:25:56.099700400Z"
    }
   },
   "cell_type": "code",
   "source": [
    "obesity_vals = data_selected.loc[(data_selected['Topic']=='Cancer') & (data_selected['ValueType']=='Crude Prevalence'), 'DataValueNum'].dropna()\n",
    "heart_disease_vals = data_selected.loc[(data_selected['Topic']=='Sleep') & (data_selected['ValueType']=='Crude Prevalence'), 'DataValueNum'].dropna()\n",
    "\n",
    "# Perform the t-test\n",
    "stat, p_value = ttest_ind(obesity_vals, heart_disease_vals, equal_var=False)\n",
    "\n",
    "print(\"Test stat:\", stat)\n",
    "print(\"p-value:\", p_value)\n",
    "\n",
    "# Interpretation\n",
    "if p_value < 0.05:\n",
    "    print(\"The average DataValueNum for Cancer is significantly different from Sleep.\")\n",
    "else:\n",
    "    print(\"There is no significant difference in the average DataValueNum between Cancer and Sleep.\")"
   ],
   "id": "555642371e5eaec2",
   "outputs": [
    {
     "ename": "KeyError",
     "evalue": "'Topic'",
     "output_type": "error",
     "traceback": [
      "\u001B[31m---------------------------------------------------------------------------\u001B[39m",
      "\u001B[31mKeyError\u001B[39m                                  Traceback (most recent call last)",
      "\u001B[36mFile \u001B[39m\u001B[32mC:\\Python313\\Lib\\site-packages\\pandas\\core\\indexes\\base.py:3805\u001B[39m, in \u001B[36mIndex.get_loc\u001B[39m\u001B[34m(self, key)\u001B[39m\n\u001B[32m   3804\u001B[39m \u001B[38;5;28;01mtry\u001B[39;00m:\n\u001B[32m-> \u001B[39m\u001B[32m3805\u001B[39m     \u001B[38;5;28;01mreturn\u001B[39;00m \u001B[38;5;28;43mself\u001B[39;49m\u001B[43m.\u001B[49m\u001B[43m_engine\u001B[49m\u001B[43m.\u001B[49m\u001B[43mget_loc\u001B[49m\u001B[43m(\u001B[49m\u001B[43mcasted_key\u001B[49m\u001B[43m)\u001B[49m\n\u001B[32m   3806\u001B[39m \u001B[38;5;28;01mexcept\u001B[39;00m \u001B[38;5;167;01mKeyError\u001B[39;00m \u001B[38;5;28;01mas\u001B[39;00m err:\n",
      "\u001B[36mFile \u001B[39m\u001B[32mindex.pyx:167\u001B[39m, in \u001B[36mpandas._libs.index.IndexEngine.get_loc\u001B[39m\u001B[34m()\u001B[39m\n",
      "\u001B[36mFile \u001B[39m\u001B[32mindex.pyx:196\u001B[39m, in \u001B[36mpandas._libs.index.IndexEngine.get_loc\u001B[39m\u001B[34m()\u001B[39m\n",
      "\u001B[36mFile \u001B[39m\u001B[32mpandas\\\\_libs\\\\hashtable_class_helper.pxi:7081\u001B[39m, in \u001B[36mpandas._libs.hashtable.PyObjectHashTable.get_item\u001B[39m\u001B[34m()\u001B[39m\n",
      "\u001B[36mFile \u001B[39m\u001B[32mpandas\\\\_libs\\\\hashtable_class_helper.pxi:7089\u001B[39m, in \u001B[36mpandas._libs.hashtable.PyObjectHashTable.get_item\u001B[39m\u001B[34m()\u001B[39m\n",
      "\u001B[31mKeyError\u001B[39m: 'Topic'",
      "\nThe above exception was the direct cause of the following exception:\n",
      "\u001B[31mKeyError\u001B[39m                                  Traceback (most recent call last)",
      "\u001B[36mCell\u001B[39m\u001B[36m \u001B[39m\u001B[32mIn[27]\u001B[39m\u001B[32m, line 1\u001B[39m\n\u001B[32m----> \u001B[39m\u001B[32m1\u001B[39m obesity_vals = data_selected.loc[(\u001B[43mdata_selected\u001B[49m\u001B[43m[\u001B[49m\u001B[33;43m'\u001B[39;49m\u001B[33;43mTopic\u001B[39;49m\u001B[33;43m'\u001B[39;49m\u001B[43m]\u001B[49m==\u001B[33m'\u001B[39m\u001B[33mCancer\u001B[39m\u001B[33m'\u001B[39m) & (data_selected[\u001B[33m'\u001B[39m\u001B[33mValueType\u001B[39m\u001B[33m'\u001B[39m]==\u001B[33m'\u001B[39m\u001B[33mCrude Prevalence\u001B[39m\u001B[33m'\u001B[39m), \u001B[33m'\u001B[39m\u001B[33mDataValueNum\u001B[39m\u001B[33m'\u001B[39m].dropna()\n\u001B[32m      2\u001B[39m heart_disease_vals = data_selected.loc[(data_selected[\u001B[33m'\u001B[39m\u001B[33mTopic\u001B[39m\u001B[33m'\u001B[39m]==\u001B[33m'\u001B[39m\u001B[33mSleep\u001B[39m\u001B[33m'\u001B[39m) & (data_selected[\u001B[33m'\u001B[39m\u001B[33mValueType\u001B[39m\u001B[33m'\u001B[39m]==\u001B[33m'\u001B[39m\u001B[33mCrude Prevalence\u001B[39m\u001B[33m'\u001B[39m), \u001B[33m'\u001B[39m\u001B[33mDataValueNum\u001B[39m\u001B[33m'\u001B[39m].dropna()\n\u001B[32m      4\u001B[39m \u001B[38;5;66;03m# Perform the t-test\u001B[39;00m\n",
      "\u001B[36mFile \u001B[39m\u001B[32mC:\\Python313\\Lib\\site-packages\\pandas\\core\\frame.py:4102\u001B[39m, in \u001B[36mDataFrame.__getitem__\u001B[39m\u001B[34m(self, key)\u001B[39m\n\u001B[32m   4100\u001B[39m \u001B[38;5;28;01mif\u001B[39;00m \u001B[38;5;28mself\u001B[39m.columns.nlevels > \u001B[32m1\u001B[39m:\n\u001B[32m   4101\u001B[39m     \u001B[38;5;28;01mreturn\u001B[39;00m \u001B[38;5;28mself\u001B[39m._getitem_multilevel(key)\n\u001B[32m-> \u001B[39m\u001B[32m4102\u001B[39m indexer = \u001B[38;5;28;43mself\u001B[39;49m\u001B[43m.\u001B[49m\u001B[43mcolumns\u001B[49m\u001B[43m.\u001B[49m\u001B[43mget_loc\u001B[49m\u001B[43m(\u001B[49m\u001B[43mkey\u001B[49m\u001B[43m)\u001B[49m\n\u001B[32m   4103\u001B[39m \u001B[38;5;28;01mif\u001B[39;00m is_integer(indexer):\n\u001B[32m   4104\u001B[39m     indexer = [indexer]\n",
      "\u001B[36mFile \u001B[39m\u001B[32mC:\\Python313\\Lib\\site-packages\\pandas\\core\\indexes\\base.py:3812\u001B[39m, in \u001B[36mIndex.get_loc\u001B[39m\u001B[34m(self, key)\u001B[39m\n\u001B[32m   3807\u001B[39m     \u001B[38;5;28;01mif\u001B[39;00m \u001B[38;5;28misinstance\u001B[39m(casted_key, \u001B[38;5;28mslice\u001B[39m) \u001B[38;5;129;01mor\u001B[39;00m (\n\u001B[32m   3808\u001B[39m         \u001B[38;5;28misinstance\u001B[39m(casted_key, abc.Iterable)\n\u001B[32m   3809\u001B[39m         \u001B[38;5;129;01mand\u001B[39;00m \u001B[38;5;28many\u001B[39m(\u001B[38;5;28misinstance\u001B[39m(x, \u001B[38;5;28mslice\u001B[39m) \u001B[38;5;28;01mfor\u001B[39;00m x \u001B[38;5;129;01min\u001B[39;00m casted_key)\n\u001B[32m   3810\u001B[39m     ):\n\u001B[32m   3811\u001B[39m         \u001B[38;5;28;01mraise\u001B[39;00m InvalidIndexError(key)\n\u001B[32m-> \u001B[39m\u001B[32m3812\u001B[39m     \u001B[38;5;28;01mraise\u001B[39;00m \u001B[38;5;167;01mKeyError\u001B[39;00m(key) \u001B[38;5;28;01mfrom\u001B[39;00m\u001B[38;5;250m \u001B[39m\u001B[34;01merr\u001B[39;00m\n\u001B[32m   3813\u001B[39m \u001B[38;5;28;01mexcept\u001B[39;00m \u001B[38;5;167;01mTypeError\u001B[39;00m:\n\u001B[32m   3814\u001B[39m     \u001B[38;5;66;03m# If we have a listlike key, _check_indexing_error will raise\u001B[39;00m\n\u001B[32m   3815\u001B[39m     \u001B[38;5;66;03m#  InvalidIndexError. Otherwise we fall through and re-raise\u001B[39;00m\n\u001B[32m   3816\u001B[39m     \u001B[38;5;66;03m#  the TypeError.\u001B[39;00m\n\u001B[32m   3817\u001B[39m     \u001B[38;5;28mself\u001B[39m._check_indexing_error(key)\n",
      "\u001B[31mKeyError\u001B[39m: 'Topic'"
     ]
    }
   ],
   "execution_count": 27
  },
  {
   "metadata": {},
   "cell_type": "markdown",
   "source": [
    "---\n",
    "### **Zhrnutie**\n",
    "\n",
    "Základné kroky analýzy dát v Pythone zahŕňajú:\n",
    "1. **Objavovanie**: základné informácie o datasete.\n",
    "2. **Očistenie**: odstránenie chýbajúcich hodnôt, duplicitných záznamov.\n",
    "3. **Úpravy**: vytvorenie nových stĺpcov, pivotovanie dát.\n",
    "4. **Popis**: základná štatistika, zoskupenie dát.\n",
    "5. **Vizualizácia**: zobrazenie distribúcie, korelácií, vzťahov.\n",
    "6. **Analýza**: štatistické testy, detekcia outlierov, predikcia.\n",
    "\n",
    "Tieto kroky tvoria základ dátovej analytiky v Pythone. Dôležitou časťou je správne pochopenie dát a ich kontextu, aby sme vedeli aplikovať správne metódy analýzy a interpretovať výsledky.\n",
    "\n"
   ],
   "id": "3b537fa94fcce2f2"
  }
 ],
 "metadata": {
  "kernelspec": {
   "display_name": "Python 3",
   "language": "python",
   "name": "python3"
  },
  "language_info": {
   "codemirror_mode": {
    "name": "ipython",
    "version": 2
   },
   "file_extension": ".py",
   "mimetype": "text/x-python",
   "name": "python",
   "nbconvert_exporter": "python",
   "pygments_lexer": "ipython2",
   "version": "2.7.6"
  }
 },
 "nbformat": 4,
 "nbformat_minor": 5
}
